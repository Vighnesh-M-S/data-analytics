{
 "cells": [
  {
   "cell_type": "markdown",
   "metadata": {},
   "source": [
    "# Data Analysis"
   ]
  },
  {
   "cell_type": "code",
   "execution_count": 1,
   "metadata": {},
   "outputs": [],
   "source": [
    "import pandas as pd                             #importing the required modules/packages\n",
    "import numpy as np\n",
    "import seaborn as sns\n",
    "import matplotlib.pyplot as plt\n",
    "%matplotlib inline\n",
    "from sklearn import preprocessing\n",
    "from scipy.stats import norm"
   ]
  },
  {
   "cell_type": "code",
   "execution_count": 2,
   "metadata": {},
   "outputs": [],
   "source": [
    "df = pd.read_csv('bike_buyers_data.csv')             #reading the csv file"
   ]
  },
  {
   "cell_type": "code",
   "execution_count": 3,
   "metadata": {},
   "outputs": [
    {
     "data": {
      "text/html": [
       "<div>\n",
       "<style scoped>\n",
       "    .dataframe tbody tr th:only-of-type {\n",
       "        vertical-align: middle;\n",
       "    }\n",
       "\n",
       "    .dataframe tbody tr th {\n",
       "        vertical-align: top;\n",
       "    }\n",
       "\n",
       "    .dataframe thead th {\n",
       "        text-align: right;\n",
       "    }\n",
       "</style>\n",
       "<table border=\"1\" class=\"dataframe\">\n",
       "  <thead>\n",
       "    <tr style=\"text-align: right;\">\n",
       "      <th></th>\n",
       "      <th>ID</th>\n",
       "      <th>Marital Status</th>\n",
       "      <th>Gender</th>\n",
       "      <th>Income</th>\n",
       "      <th>Children</th>\n",
       "      <th>Education</th>\n",
       "      <th>Occupation</th>\n",
       "      <th>Home Owner</th>\n",
       "      <th>Cars</th>\n",
       "      <th>Commute Distance</th>\n",
       "      <th>Region</th>\n",
       "      <th>Age</th>\n",
       "      <th>Purchased Bike</th>\n",
       "      <th>Bike Used In Years</th>\n",
       "    </tr>\n",
       "  </thead>\n",
       "  <tbody>\n",
       "    <tr>\n",
       "      <td>0</td>\n",
       "      <td>12496</td>\n",
       "      <td>Married</td>\n",
       "      <td>Female</td>\n",
       "      <td>40000</td>\n",
       "      <td>1</td>\n",
       "      <td>Bachelors</td>\n",
       "      <td>Skilled Manual</td>\n",
       "      <td>Yes</td>\n",
       "      <td>0.0</td>\n",
       "      <td>0-1 Miles</td>\n",
       "      <td>Europe</td>\n",
       "      <td>42.0</td>\n",
       "      <td>No</td>\n",
       "      <td>2.0</td>\n",
       "    </tr>\n",
       "    <tr>\n",
       "      <td>1</td>\n",
       "      <td>24107</td>\n",
       "      <td>Married</td>\n",
       "      <td>Male</td>\n",
       "      <td>30000</td>\n",
       "      <td>3</td>\n",
       "      <td>Partial College</td>\n",
       "      <td>Clerical</td>\n",
       "      <td>Yes</td>\n",
       "      <td>1.0</td>\n",
       "      <td>0-1 Miles</td>\n",
       "      <td>Europe</td>\n",
       "      <td>43.0</td>\n",
       "      <td>No</td>\n",
       "      <td>2.0</td>\n",
       "    </tr>\n",
       "    <tr>\n",
       "      <td>2</td>\n",
       "      <td>14177</td>\n",
       "      <td>Married</td>\n",
       "      <td>Male</td>\n",
       "      <td>80000</td>\n",
       "      <td>5</td>\n",
       "      <td>Partial College</td>\n",
       "      <td>Professional</td>\n",
       "      <td>No</td>\n",
       "      <td>2.0</td>\n",
       "      <td>2-5 Miles</td>\n",
       "      <td>Europe</td>\n",
       "      <td>60.0</td>\n",
       "      <td>No</td>\n",
       "      <td>2.0</td>\n",
       "    </tr>\n",
       "    <tr>\n",
       "      <td>3</td>\n",
       "      <td>24381</td>\n",
       "      <td>Single</td>\n",
       "      <td>NaN</td>\n",
       "      <td>70000</td>\n",
       "      <td>0</td>\n",
       "      <td>Bachelors</td>\n",
       "      <td>Professional</td>\n",
       "      <td>Yes</td>\n",
       "      <td>1.0</td>\n",
       "      <td>5-10 Miles</td>\n",
       "      <td>Pacific</td>\n",
       "      <td>41.0</td>\n",
       "      <td>Yes</td>\n",
       "      <td>2.0</td>\n",
       "    </tr>\n",
       "    <tr>\n",
       "      <td>4</td>\n",
       "      <td>25597</td>\n",
       "      <td>Single</td>\n",
       "      <td>Male</td>\n",
       "      <td>30000</td>\n",
       "      <td>0</td>\n",
       "      <td>Bachelors</td>\n",
       "      <td>Clerical</td>\n",
       "      <td>No</td>\n",
       "      <td>0.0</td>\n",
       "      <td>NaN</td>\n",
       "      <td>Europe</td>\n",
       "      <td>36.0</td>\n",
       "      <td>Yes</td>\n",
       "      <td>2.0</td>\n",
       "    </tr>\n",
       "  </tbody>\n",
       "</table>\n",
       "</div>"
      ],
      "text/plain": [
       "      ID Marital Status  Gender Income Children        Education  \\\n",
       "0  12496        Married  Female  40000        1        Bachelors   \n",
       "1  24107        Married    Male  30000        3  Partial College   \n",
       "2  14177        Married    Male  80000        5  Partial College   \n",
       "3  24381         Single     NaN  70000        0        Bachelors   \n",
       "4  25597         Single    Male  30000        0        Bachelors   \n",
       "\n",
       "       Occupation Home Owner  Cars Commute Distance   Region   Age  \\\n",
       "0  Skilled Manual        Yes   0.0        0-1 Miles   Europe  42.0   \n",
       "1        Clerical        Yes   1.0        0-1 Miles   Europe  43.0   \n",
       "2    Professional         No   2.0        2-5 Miles   Europe  60.0   \n",
       "3    Professional        Yes   1.0       5-10 Miles  Pacific  41.0   \n",
       "4        Clerical         No   0.0              NaN   Europe  36.0   \n",
       "\n",
       "  Purchased Bike  Bike Used In Years  \n",
       "0             No                 2.0  \n",
       "1             No                 2.0  \n",
       "2             No                 2.0  \n",
       "3            Yes                 2.0  \n",
       "4            Yes                 2.0  "
      ]
     },
     "execution_count": 3,
     "metadata": {},
     "output_type": "execute_result"
    }
   ],
   "source": [
    "df.head()         #Inspecting the first 5 rows"
   ]
  },
  {
   "cell_type": "code",
   "execution_count": 4,
   "metadata": {},
   "outputs": [
    {
     "data": {
      "text/html": [
       "<div>\n",
       "<style scoped>\n",
       "    .dataframe tbody tr th:only-of-type {\n",
       "        vertical-align: middle;\n",
       "    }\n",
       "\n",
       "    .dataframe tbody tr th {\n",
       "        vertical-align: top;\n",
       "    }\n",
       "\n",
       "    .dataframe thead th {\n",
       "        text-align: right;\n",
       "    }\n",
       "</style>\n",
       "<table border=\"1\" class=\"dataframe\">\n",
       "  <thead>\n",
       "    <tr style=\"text-align: right;\">\n",
       "      <th></th>\n",
       "      <th>ID</th>\n",
       "      <th>Marital Status</th>\n",
       "      <th>Gender</th>\n",
       "      <th>Income</th>\n",
       "      <th>Children</th>\n",
       "      <th>Education</th>\n",
       "      <th>Occupation</th>\n",
       "      <th>Home Owner</th>\n",
       "      <th>Cars</th>\n",
       "      <th>Commute Distance</th>\n",
       "      <th>Region</th>\n",
       "      <th>Age</th>\n",
       "      <th>Purchased Bike</th>\n",
       "      <th>Bike Used In Years</th>\n",
       "    </tr>\n",
       "  </thead>\n",
       "  <tbody>\n",
       "    <tr>\n",
       "      <td>0</td>\n",
       "      <td>12496</td>\n",
       "      <td>Married</td>\n",
       "      <td>Female</td>\n",
       "      <td>40000</td>\n",
       "      <td>1</td>\n",
       "      <td>Bachelors</td>\n",
       "      <td>Skilled Manual</td>\n",
       "      <td>Yes</td>\n",
       "      <td>0.0</td>\n",
       "      <td>0-1 Miles</td>\n",
       "      <td>Europe</td>\n",
       "      <td>42.0</td>\n",
       "      <td>No</td>\n",
       "      <td>2.0</td>\n",
       "    </tr>\n",
       "    <tr>\n",
       "      <td>1</td>\n",
       "      <td>24107</td>\n",
       "      <td>Married</td>\n",
       "      <td>Male</td>\n",
       "      <td>30000</td>\n",
       "      <td>3</td>\n",
       "      <td>Partial College</td>\n",
       "      <td>Clerical</td>\n",
       "      <td>Yes</td>\n",
       "      <td>1.0</td>\n",
       "      <td>0-1 Miles</td>\n",
       "      <td>Europe</td>\n",
       "      <td>43.0</td>\n",
       "      <td>No</td>\n",
       "      <td>2.0</td>\n",
       "    </tr>\n",
       "    <tr>\n",
       "      <td>2</td>\n",
       "      <td>14177</td>\n",
       "      <td>Married</td>\n",
       "      <td>Male</td>\n",
       "      <td>80000</td>\n",
       "      <td>5</td>\n",
       "      <td>Partial College</td>\n",
       "      <td>Professional</td>\n",
       "      <td>No</td>\n",
       "      <td>2.0</td>\n",
       "      <td>2-5 Miles</td>\n",
       "      <td>Europe</td>\n",
       "      <td>60.0</td>\n",
       "      <td>No</td>\n",
       "      <td>2.0</td>\n",
       "    </tr>\n",
       "    <tr>\n",
       "      <td>3</td>\n",
       "      <td>24381</td>\n",
       "      <td>Single</td>\n",
       "      <td>NaN</td>\n",
       "      <td>70000</td>\n",
       "      <td>0</td>\n",
       "      <td>Bachelors</td>\n",
       "      <td>Professional</td>\n",
       "      <td>Yes</td>\n",
       "      <td>1.0</td>\n",
       "      <td>5-10 Miles</td>\n",
       "      <td>Pacific</td>\n",
       "      <td>41.0</td>\n",
       "      <td>Yes</td>\n",
       "      <td>2.0</td>\n",
       "    </tr>\n",
       "    <tr>\n",
       "      <td>4</td>\n",
       "      <td>25597</td>\n",
       "      <td>Single</td>\n",
       "      <td>Male</td>\n",
       "      <td>30000</td>\n",
       "      <td>0</td>\n",
       "      <td>Bachelors</td>\n",
       "      <td>Clerical</td>\n",
       "      <td>No</td>\n",
       "      <td>0.0</td>\n",
       "      <td>NaN</td>\n",
       "      <td>Europe</td>\n",
       "      <td>36.0</td>\n",
       "      <td>Yes</td>\n",
       "      <td>2.0</td>\n",
       "    </tr>\n",
       "    <tr>\n",
       "      <td>...</td>\n",
       "      <td>...</td>\n",
       "      <td>...</td>\n",
       "      <td>...</td>\n",
       "      <td>...</td>\n",
       "      <td>...</td>\n",
       "      <td>...</td>\n",
       "      <td>...</td>\n",
       "      <td>...</td>\n",
       "      <td>...</td>\n",
       "      <td>...</td>\n",
       "      <td>...</td>\n",
       "      <td>...</td>\n",
       "      <td>...</td>\n",
       "      <td>...</td>\n",
       "    </tr>\n",
       "    <tr>\n",
       "      <td>995</td>\n",
       "      <td>23731</td>\n",
       "      <td>Married</td>\n",
       "      <td>Male</td>\n",
       "      <td>60000</td>\n",
       "      <td>2</td>\n",
       "      <td>NaN</td>\n",
       "      <td>Professional</td>\n",
       "      <td>Yes</td>\n",
       "      <td>2.0</td>\n",
       "      <td>2-5 Miles</td>\n",
       "      <td>North America</td>\n",
       "      <td>54.0</td>\n",
       "      <td>Yes</td>\n",
       "      <td>5.0</td>\n",
       "    </tr>\n",
       "    <tr>\n",
       "      <td>996</td>\n",
       "      <td>28672</td>\n",
       "      <td>Single</td>\n",
       "      <td>Male</td>\n",
       "      <td>70000</td>\n",
       "      <td>4</td>\n",
       "      <td>Graduate Degree</td>\n",
       "      <td>Professional</td>\n",
       "      <td>Yes</td>\n",
       "      <td>0.0</td>\n",
       "      <td>2-5 Miles</td>\n",
       "      <td>North America</td>\n",
       "      <td>NaN</td>\n",
       "      <td>Yes</td>\n",
       "      <td>5.0</td>\n",
       "    </tr>\n",
       "    <tr>\n",
       "      <td>997</td>\n",
       "      <td>11809</td>\n",
       "      <td>Married</td>\n",
       "      <td>NaN</td>\n",
       "      <td>60000</td>\n",
       "      <td>2</td>\n",
       "      <td>Bachelors</td>\n",
       "      <td>Skilled Manual</td>\n",
       "      <td>Yes</td>\n",
       "      <td>0.0</td>\n",
       "      <td>0-1 Miles</td>\n",
       "      <td>North America</td>\n",
       "      <td>38.0</td>\n",
       "      <td>Yes</td>\n",
       "      <td>5.0</td>\n",
       "    </tr>\n",
       "    <tr>\n",
       "      <td>998</td>\n",
       "      <td>19664</td>\n",
       "      <td>Single</td>\n",
       "      <td>Male</td>\n",
       "      <td>100000</td>\n",
       "      <td>3</td>\n",
       "      <td>Bachelors</td>\n",
       "      <td>Management</td>\n",
       "      <td>NaN</td>\n",
       "      <td>3.0</td>\n",
       "      <td>NaN</td>\n",
       "      <td>North America</td>\n",
       "      <td>38.0</td>\n",
       "      <td>No</td>\n",
       "      <td>5.0</td>\n",
       "    </tr>\n",
       "    <tr>\n",
       "      <td>999</td>\n",
       "      <td>12121</td>\n",
       "      <td>Single</td>\n",
       "      <td>Male</td>\n",
       "      <td>60000</td>\n",
       "      <td>3</td>\n",
       "      <td>High School</td>\n",
       "      <td>Professional</td>\n",
       "      <td>Yes</td>\n",
       "      <td>2.0</td>\n",
       "      <td>10+ Miles</td>\n",
       "      <td>North America</td>\n",
       "      <td>53.0</td>\n",
       "      <td>Yes</td>\n",
       "      <td>5.0</td>\n",
       "    </tr>\n",
       "  </tbody>\n",
       "</table>\n",
       "<p>1000 rows × 14 columns</p>\n",
       "</div>"
      ],
      "text/plain": [
       "        ID Marital Status  Gender  Income Children        Education  \\\n",
       "0    12496        Married  Female   40000        1        Bachelors   \n",
       "1    24107        Married    Male   30000        3  Partial College   \n",
       "2    14177        Married    Male   80000        5  Partial College   \n",
       "3    24381         Single     NaN   70000        0        Bachelors   \n",
       "4    25597         Single    Male   30000        0        Bachelors   \n",
       "..     ...            ...     ...     ...      ...              ...   \n",
       "995  23731        Married    Male   60000        2              NaN   \n",
       "996  28672         Single    Male   70000        4  Graduate Degree   \n",
       "997  11809        Married     NaN   60000        2        Bachelors   \n",
       "998  19664         Single    Male  100000        3        Bachelors   \n",
       "999  12121         Single    Male   60000        3      High School   \n",
       "\n",
       "         Occupation Home Owner  Cars Commute Distance         Region   Age  \\\n",
       "0    Skilled Manual        Yes   0.0        0-1 Miles         Europe  42.0   \n",
       "1          Clerical        Yes   1.0        0-1 Miles         Europe  43.0   \n",
       "2      Professional         No   2.0        2-5 Miles         Europe  60.0   \n",
       "3      Professional        Yes   1.0       5-10 Miles        Pacific  41.0   \n",
       "4          Clerical         No   0.0              NaN         Europe  36.0   \n",
       "..              ...        ...   ...              ...            ...   ...   \n",
       "995    Professional        Yes   2.0        2-5 Miles  North America  54.0   \n",
       "996    Professional        Yes   0.0        2-5 Miles  North America   NaN   \n",
       "997  Skilled Manual        Yes   0.0        0-1 Miles  North America  38.0   \n",
       "998      Management        NaN   3.0              NaN  North America  38.0   \n",
       "999    Professional        Yes   2.0        10+ Miles  North America  53.0   \n",
       "\n",
       "    Purchased Bike  Bike Used In Years  \n",
       "0               No                 2.0  \n",
       "1               No                 2.0  \n",
       "2               No                 2.0  \n",
       "3              Yes                 2.0  \n",
       "4              Yes                 2.0  \n",
       "..             ...                 ...  \n",
       "995            Yes                 5.0  \n",
       "996            Yes                 5.0  \n",
       "997            Yes                 5.0  \n",
       "998             No                 5.0  \n",
       "999            Yes                 5.0  \n",
       "\n",
       "[1000 rows x 14 columns]"
      ]
     },
     "execution_count": 4,
     "metadata": {},
     "output_type": "execute_result"
    }
   ],
   "source": [
    "#Making a list of missing value types\n",
    "#we are doing this because the compiler can identify only NaN as missing..\n",
    "missing_values=[\"n/a\",\"na\",\"--\"]\n",
    "df=pd.read_csv('bike_buyers_data.csv',na_values=missing_values)\n",
    "df"
   ]
  },
  {
   "cell_type": "code",
   "execution_count": 5,
   "metadata": {},
   "outputs": [
    {
     "data": {
      "text/plain": [
       "(1000, 14)"
      ]
     },
     "execution_count": 5,
     "metadata": {},
     "output_type": "execute_result"
    }
   ],
   "source": [
    "df.shape          #to see number of  rows and cols our data contains"
   ]
  },
  {
   "cell_type": "code",
   "execution_count": 6,
   "metadata": {},
   "outputs": [
    {
     "data": {
      "text/plain": [
       "<matplotlib.axes._subplots.AxesSubplot at 0x19cb3fce9c8>"
      ]
     },
     "execution_count": 6,
     "metadata": {},
     "output_type": "execute_result"
    },
    {
     "data": {
      "image/png": "[encoded data removed]",
      "text/plain": [
       "<Figure size 432x288 with 1 Axes>"
      ]
     },
     "metadata": {
      "needs_background": "light"
     },
     "output_type": "display_data"
    }
   ],
   "source": [
    "## to see the null values using heatmaps\n",
    "sns.heatmap(df.isnull(),yticklabels=False,cbar=False,cmap='viridis')"
   ]
  },
  {
   "cell_type": "code",
   "execution_count": 7,
   "metadata": {},
   "outputs": [
    {
     "data": {
      "text/plain": [
       "True"
      ]
     },
     "execution_count": 7,
     "metadata": {},
     "output_type": "execute_result"
    }
   ],
   "source": [
    "df.isnull().values.any()    #missing values values are present"
   ]
  },
  {
   "cell_type": "code",
   "execution_count": 8,
   "metadata": {},
   "outputs": [
    {
     "data": {
      "text/plain": [
       "459"
      ]
     },
     "execution_count": 8,
     "metadata": {},
     "output_type": "execute_result"
    }
   ],
   "source": [
    "df.isnull().sum().sum()       #total count of missing values"
   ]
  },
  {
   "cell_type": "markdown",
   "metadata": {},
   "source": [
    "# BEFORE DATA CLEANING"
   ]
  },
  {
   "cell_type": "code",
   "execution_count": 9,
   "metadata": {},
   "outputs": [
    {
     "data": {
      "text/plain": [
       "ID                     0\n",
       "Marital Status        16\n",
       "Gender                23\n",
       "Income                41\n",
       "Children              21\n",
       "Education             61\n",
       "Occupation            56\n",
       "Home Owner            27\n",
       "Cars                  35\n",
       "Commute Distance      45\n",
       "Region                52\n",
       "Age                   25\n",
       "Purchased Bike         3\n",
       "Bike Used In Years    54\n",
       "dtype: int64"
      ]
     },
     "execution_count": 9,
     "metadata": {},
     "output_type": "execute_result"
    }
   ],
   "source": [
    "df.isnull().sum()     #checking missing values\n",
    "                      #we have so many missing values lets start to clean them up!!"
   ]
  },
  {
   "cell_type": "code",
   "execution_count": 10,
   "metadata": {
    "scrolled": true
   },
   "outputs": [
    {
     "data": {
      "text/plain": [
       "ID                      int64\n",
       "Marital Status         object\n",
       "Gender                 object\n",
       "Income                 object\n",
       "Children               object\n",
       "Education              object\n",
       "Occupation             object\n",
       "Home Owner             object\n",
       "Cars                  float64\n",
       "Commute Distance       object\n",
       "Region                 object\n",
       "Age                   float64\n",
       "Purchased Bike         object\n",
       "Bike Used In Years    float64\n",
       "dtype: object"
      ]
     },
     "execution_count": 10,
     "metadata": {},
     "output_type": "execute_result"
    }
   ],
   "source": [
    "df.dtypes   #checking the datatypes of our data"
   ]
  },
  {
   "cell_type": "markdown",
   "metadata": {},
   "source": [
    "# DATA CLEANING"
   ]
  },
  {
   "cell_type": "markdown",
   "metadata": {},
   "source": [
    "METHOD 1:-"
   ]
  },
  {
   "cell_type": "code",
   "execution_count": 11,
   "metadata": {},
   "outputs": [],
   "source": [
    "# drop all rows with all NaN         \n",
    "df = df.dropna(axis = 0, how ='all')\n",
    "# drop all columns with all NaN\n",
    "df = df.dropna(axis = 1, how ='all')"
   ]
  },
  {
   "cell_type": "markdown",
   "metadata": {},
   "source": [
    " METHOD 2:-"
   ]
  },
  {
   "cell_type": "code",
   "execution_count": 12,
   "metadata": {},
   "outputs": [],
   "source": [
    "#checking for any inconsistent data in gender column\n",
    "\n",
    "df.Gender=df.Gender.astype(str)\n",
    "list_Gender=[\"Male\",\"male\",\"Female\",\"female\"]\n",
    "count_01=0\n",
    "for i in df['Gender']:\n",
    "    if(i in list_Gender):\n",
    "        df.loc[count_01,'Gender']=i\n",
    "    else:\n",
    "        df.loc[count_01,'Gender']=\"unknown\"\n",
    "    count_01+=1\n",
    "#checking for any inconsistent data in Purchased Bike column\n",
    "for count ,row in df.iterrows():\n",
    "    if (row['Purchased Bike']=='yes' or row['Purchased Bike']==0):\n",
    "        df.loc[count,'Purchased Bike']='Yes'"
   ]
  },
  {
   "cell_type": "code",
   "execution_count": 13,
   "metadata": {},
   "outputs": [],
   "source": [
    "#I have created a code which traverse through both columns and checks for mismatching values based on condition and fixes it.\n",
    "#checking for the mismatching values in two columns and filling it appropriate value.\n",
    "for count , row in df.iterrows():\n",
    "    if(row['Marital Status'] == \"Single\" and row['Children'] != 0.0):\n",
    "        df.loc[count,'Children']=0.0\n",
    "    else:\n",
    "         df.loc[count,'Children']=row['Children']\n",
    "        "
   ]
  },
  {
   "cell_type": "code",
   "execution_count": 14,
   "metadata": {},
   "outputs": [],
   "source": [
    "#checking for the mismatching values in two columns and filling it with appropriate value.\n",
    "for count , row in df.iterrows():\n",
    "    if(row['Purchased Bike'] == \"No\" and row['Bike Used In Years'] != 0.0):\n",
    "        df.loc[count,'Bike Used In Years']=0.0\n",
    "    else:\n",
    "         df.loc[count,'Bike Used In Years']=row['Bike Used In Years']"
   ]
  },
  {
   "cell_type": "markdown",
   "metadata": {},
   "source": [
    "METHOD 3:-"
   ]
  },
  {
   "cell_type": "code",
   "execution_count": 15,
   "metadata": {},
   "outputs": [
    {
     "name": "stdout",
     "output_type": "stream",
     "text": [
      "0       40000.0\n",
      "1       30000.0\n",
      "2       80000.0\n",
      "3       70000.0\n",
      "4       30000.0\n",
      "         ...   \n",
      "995     60000.0\n",
      "996     70000.0\n",
      "997     60000.0\n",
      "998    100000.0\n",
      "999     60000.0\n",
      "Name: Income, Length: 1000, dtype: float64\n",
      "0      1.0\n",
      "1      3.0\n",
      "2      5.0\n",
      "3      0.0\n",
      "4      0.0\n",
      "      ... \n",
      "995    2.0\n",
      "996    0.0\n",
      "997    2.0\n",
      "998    0.0\n",
      "999    0.0\n",
      "Name: Children, Length: 1000, dtype: float64\n"
     ]
    }
   ],
   "source": [
    "#I have designed a function that allows me to check for invalid data types in a column.\n",
    "#Suppose I wish to ensure that all values in the ‘Income’,'Children' column are of type int/float. I will use the following:\n",
    "#this func also deletes all other char,strings,'/'etc..\n",
    "\n",
    "def make_int(i):\n",
    "    try:\n",
    "        return int(i)\n",
    "    except:\n",
    "        return np.nan\n",
    "\n",
    "# apply make_int function to the entire series using map\n",
    "\n",
    "df['Income'] = df['Income'].map(make_int)\n",
    "df['Children']=df['Children'].map(make_int)\n",
    "\n",
    "print(df['Income'])\n",
    "print(df['Children'])\n",
    "\n"
   ]
  },
  {
   "cell_type": "code",
   "execution_count": 16,
   "metadata": {},
   "outputs": [
    {
     "data": {
      "text/plain": [
       "ID                      int64\n",
       "Marital Status         object\n",
       "Gender                 object\n",
       "Income                float64\n",
       "Children              float64\n",
       "Education              object\n",
       "Occupation             object\n",
       "Home Owner             object\n",
       "Cars                  float64\n",
       "Commute Distance       object\n",
       "Region                 object\n",
       "Age                   float64\n",
       "Purchased Bike         object\n",
       "Bike Used In Years    float64\n",
       "dtype: object"
      ]
     },
     "execution_count": 16,
     "metadata": {},
     "output_type": "execute_result"
    }
   ],
   "source": [
    "df.dtypes"
   ]
  },
  {
   "cell_type": "markdown",
   "metadata": {},
   "source": [
    "METHOD 4:-"
   ]
  },
  {
   "cell_type": "code",
   "execution_count": 17,
   "metadata": {},
   "outputs": [],
   "source": [
    "#Replacing NaNs with a single constant value\n",
    "#We will use fillna() to replace missing values in the 'Purchased Bike' column with 0.\n",
    "\n",
    "df['Purchased Bike'].fillna(0, inplace=True)"
   ]
  },
  {
   "cell_type": "markdown",
   "metadata": {},
   "source": [
    "METHOD 5:-"
   ]
  },
  {
   "cell_type": "code",
   "execution_count": 18,
   "metadata": {},
   "outputs": [],
   "source": [
    "#Using the interpolate method\n",
    "#interpolate() function is used to fill NaN values using various interpolation techniques. \n",
    "\n",
    "df['Children'].interpolate(method='linear', direction = 'forward', inplace=True) \n",
    "df['Cars'].interpolate(method='linear', direction = 'forward', inplace=True) \n"
   ]
  },
  {
   "cell_type": "markdown",
   "metadata": {},
   "source": [
    "METHOD 6:-"
   ]
  },
  {
   "cell_type": "code",
   "execution_count": 19,
   "metadata": {},
   "outputs": [],
   "source": [
    "#Replacing NaNs using Median/Mean of the column\n",
    "# using median\n",
    "df['Income'].fillna(df['Income'].median(), inplace=True)\n",
    "\n",
    "#using mean\n",
    "df['Age'].fillna(int(df['Age'].mean()), inplace=True)"
   ]
  },
  {
   "cell_type": "markdown",
   "metadata": {},
   "source": [
    "METHOD 7:-"
   ]
  },
  {
   "cell_type": "code",
   "execution_count": 20,
   "metadata": {},
   "outputs": [],
   "source": [
    "#Replacing NaNs with the value from the previous row or the next row\n",
    "#This is a common approach when filling missing values.\n",
    "\n",
    "#We use method = 'pad’ for taking values from the previous row.\n",
    "df['Region'].fillna(method='pad', inplace=True)\n",
    "\n",
    "#We use method = 'bfill’ for taking values from the next row.\n",
    "df['Marital Status'].fillna(method='bfill', inplace=True)"
   ]
  },
  {
   "cell_type": "markdown",
   "metadata": {},
   "source": [
    "METHOD 8:-"
   ]
  },
  {
   "cell_type": "code",
   "execution_count": 21,
   "metadata": {},
   "outputs": [],
   "source": [
    "#checking for inconsistent data in Bike Used In Years\n",
    "count_02=0\n",
    "for j in df[\"Bike Used In Years\"]:\n",
    "    if(j<0):\n",
    "        df.loc[count_02,'Bike Used In Years']=np.NaN\n",
    "    count_02+=1\n",
    "#dropping rows which has nan values in Bike Used In Years\n",
    "df.dropna(subset=['Bike Used In Years'],inplace=True)"
   ]
  },
  {
   "cell_type": "markdown",
   "metadata": {},
   "source": [
    "METHOD 9:-"
   ]
  },
  {
   "cell_type": "code",
   "execution_count": 22,
   "metadata": {},
   "outputs": [],
   "source": [
    "#cleaning the Education and Commute Distannce column\n",
    "df['Education'].fillna(\"other\",inplace=True)\n",
    "df['Commute Distance'].fillna(\"10+ Miles\",inplace=True)\n",
    "df.isin(['\\\\']).sum(axis=0)\n",
    "df['Commute Distance'] = df['Commute Distance'].apply(lambda x: str(x).replace('\\\\', '') if '\\\\' in str(x) else str(x))"
   ]
  },
  {
   "cell_type": "markdown",
   "metadata": {},
   "source": [
    "METHOD 10:-"
   ]
  },
  {
   "cell_type": "code",
   "execution_count": 23,
   "metadata": {},
   "outputs": [],
   "source": [
    "# Filling the missing categorical values with mode\n",
    "\n",
    "df['Occupation'].fillna(str(df['Occupation'].mode().values[0]), inplace=True)\n",
    "df['Home Owner'].fillna(str(df['Home Owner'].mode().values[0]), inplace=True)"
   ]
  },
  {
   "cell_type": "code",
   "execution_count": 24,
   "metadata": {},
   "outputs": [],
   "source": [
    "#filling in  the inconsitent decimal values with their ceil values \n",
    "import math\n",
    "for count ,row in df.iterrows():\n",
    "    df.loc[count,'Children']=math.ceil(row['Children'])\n",
    "    df.loc[count,'Cars']=math.ceil(row['Cars'])\n",
    "    df.loc[count,'Bike Used In Years']=math.ceil(row['Bike Used In Years'])"
   ]
  },
  {
   "cell_type": "code",
   "execution_count": 25,
   "metadata": {},
   "outputs": [],
   "source": [
    "#Filling the purchased bike columns with inconsistent vlaues with a yes or no\n",
    "import random\n",
    "lsit=['Yes','No']\n",
    "a=random.choice(lsit)\n",
    "for count ,row in df.iterrows():\n",
    "    if (row['Purchased Bike']=='yes' or row['Purchased Bike']==0):\n",
    "        df.loc[count,'Purchased Bike']=a"
   ]
  },
  {
   "cell_type": "markdown",
   "metadata": {},
   "source": [
    "# AFTER DATA CLEANING"
   ]
  },
  {
   "cell_type": "code",
   "execution_count": 26,
   "metadata": {},
   "outputs": [
    {
     "data": {
      "text/plain": [
       "ID                    0\n",
       "Marital Status        0\n",
       "Gender                0\n",
       "Income                0\n",
       "Children              0\n",
       "Education             0\n",
       "Occupation            0\n",
       "Home Owner            0\n",
       "Cars                  0\n",
       "Commute Distance      0\n",
       "Region                0\n",
       "Age                   0\n",
       "Purchased Bike        0\n",
       "Bike Used In Years    0\n",
       "dtype: int64"
      ]
     },
     "execution_count": 26,
     "metadata": {},
     "output_type": "execute_result"
    }
   ],
   "source": [
    "df.isnull().sum()   #we dont have any missing/inconsistent/NaN values "
   ]
  },
  {
   "cell_type": "code",
   "execution_count": 27,
   "metadata": {},
   "outputs": [
    {
     "data": {
      "text/html": [
       "<div>\n",
       "<style scoped>\n",
       "    .dataframe tbody tr th:only-of-type {\n",
       "        vertical-align: middle;\n",
       "    }\n",
       "\n",
       "    .dataframe tbody tr th {\n",
       "        vertical-align: top;\n",
       "    }\n",
       "\n",
       "    .dataframe thead th {\n",
       "        text-align: right;\n",
       "    }\n",
       "</style>\n",
       "<table border=\"1\" class=\"dataframe\">\n",
       "  <thead>\n",
       "    <tr style=\"text-align: right;\">\n",
       "      <th></th>\n",
       "      <th>ID</th>\n",
       "      <th>Marital Status</th>\n",
       "      <th>Gender</th>\n",
       "      <th>Income</th>\n",
       "      <th>Children</th>\n",
       "      <th>Education</th>\n",
       "      <th>Occupation</th>\n",
       "      <th>Home Owner</th>\n",
       "      <th>Cars</th>\n",
       "      <th>Commute Distance</th>\n",
       "      <th>Region</th>\n",
       "      <th>Age</th>\n",
       "      <th>Purchased Bike</th>\n",
       "      <th>Bike Used In Years</th>\n",
       "    </tr>\n",
       "  </thead>\n",
       "  <tbody>\n",
       "    <tr>\n",
       "      <td>0</td>\n",
       "      <td>12496</td>\n",
       "      <td>Married</td>\n",
       "      <td>Female</td>\n",
       "      <td>40000.0</td>\n",
       "      <td>1.0</td>\n",
       "      <td>Bachelors</td>\n",
       "      <td>Skilled Manual</td>\n",
       "      <td>Yes</td>\n",
       "      <td>0.0</td>\n",
       "      <td>0-1 Miles</td>\n",
       "      <td>Europe</td>\n",
       "      <td>42.0</td>\n",
       "      <td>No</td>\n",
       "      <td>0.0</td>\n",
       "    </tr>\n",
       "    <tr>\n",
       "      <td>1</td>\n",
       "      <td>24107</td>\n",
       "      <td>Married</td>\n",
       "      <td>Male</td>\n",
       "      <td>30000.0</td>\n",
       "      <td>3.0</td>\n",
       "      <td>Partial College</td>\n",
       "      <td>Clerical</td>\n",
       "      <td>Yes</td>\n",
       "      <td>1.0</td>\n",
       "      <td>0-1 Miles</td>\n",
       "      <td>Europe</td>\n",
       "      <td>43.0</td>\n",
       "      <td>No</td>\n",
       "      <td>0.0</td>\n",
       "    </tr>\n",
       "    <tr>\n",
       "      <td>2</td>\n",
       "      <td>14177</td>\n",
       "      <td>Married</td>\n",
       "      <td>Male</td>\n",
       "      <td>80000.0</td>\n",
       "      <td>5.0</td>\n",
       "      <td>Partial College</td>\n",
       "      <td>Professional</td>\n",
       "      <td>No</td>\n",
       "      <td>2.0</td>\n",
       "      <td>2-5 Miles</td>\n",
       "      <td>Europe</td>\n",
       "      <td>60.0</td>\n",
       "      <td>No</td>\n",
       "      <td>0.0</td>\n",
       "    </tr>\n",
       "    <tr>\n",
       "      <td>3</td>\n",
       "      <td>24381</td>\n",
       "      <td>Single</td>\n",
       "      <td>unknown</td>\n",
       "      <td>70000.0</td>\n",
       "      <td>0.0</td>\n",
       "      <td>Bachelors</td>\n",
       "      <td>Professional</td>\n",
       "      <td>Yes</td>\n",
       "      <td>1.0</td>\n",
       "      <td>5-10 Miles</td>\n",
       "      <td>Pacific</td>\n",
       "      <td>41.0</td>\n",
       "      <td>Yes</td>\n",
       "      <td>2.0</td>\n",
       "    </tr>\n",
       "    <tr>\n",
       "      <td>4</td>\n",
       "      <td>25597</td>\n",
       "      <td>Single</td>\n",
       "      <td>Male</td>\n",
       "      <td>30000.0</td>\n",
       "      <td>0.0</td>\n",
       "      <td>Bachelors</td>\n",
       "      <td>Clerical</td>\n",
       "      <td>No</td>\n",
       "      <td>0.0</td>\n",
       "      <td>10+ Miles</td>\n",
       "      <td>Europe</td>\n",
       "      <td>36.0</td>\n",
       "      <td>Yes</td>\n",
       "      <td>2.0</td>\n",
       "    </tr>\n",
       "    <tr>\n",
       "      <td>...</td>\n",
       "      <td>...</td>\n",
       "      <td>...</td>\n",
       "      <td>...</td>\n",
       "      <td>...</td>\n",
       "      <td>...</td>\n",
       "      <td>...</td>\n",
       "      <td>...</td>\n",
       "      <td>...</td>\n",
       "      <td>...</td>\n",
       "      <td>...</td>\n",
       "      <td>...</td>\n",
       "      <td>...</td>\n",
       "      <td>...</td>\n",
       "      <td>...</td>\n",
       "    </tr>\n",
       "    <tr>\n",
       "      <td>995</td>\n",
       "      <td>23731</td>\n",
       "      <td>Married</td>\n",
       "      <td>Male</td>\n",
       "      <td>60000.0</td>\n",
       "      <td>2.0</td>\n",
       "      <td>other</td>\n",
       "      <td>Professional</td>\n",
       "      <td>Yes</td>\n",
       "      <td>2.0</td>\n",
       "      <td>2-5 Miles</td>\n",
       "      <td>North America</td>\n",
       "      <td>54.0</td>\n",
       "      <td>Yes</td>\n",
       "      <td>5.0</td>\n",
       "    </tr>\n",
       "    <tr>\n",
       "      <td>996</td>\n",
       "      <td>28672</td>\n",
       "      <td>Single</td>\n",
       "      <td>Male</td>\n",
       "      <td>70000.0</td>\n",
       "      <td>0.0</td>\n",
       "      <td>Graduate Degree</td>\n",
       "      <td>Professional</td>\n",
       "      <td>Yes</td>\n",
       "      <td>0.0</td>\n",
       "      <td>2-5 Miles</td>\n",
       "      <td>North America</td>\n",
       "      <td>44.0</td>\n",
       "      <td>Yes</td>\n",
       "      <td>5.0</td>\n",
       "    </tr>\n",
       "    <tr>\n",
       "      <td>997</td>\n",
       "      <td>11809</td>\n",
       "      <td>Married</td>\n",
       "      <td>unknown</td>\n",
       "      <td>60000.0</td>\n",
       "      <td>2.0</td>\n",
       "      <td>Bachelors</td>\n",
       "      <td>Skilled Manual</td>\n",
       "      <td>Yes</td>\n",
       "      <td>0.0</td>\n",
       "      <td>0-1 Miles</td>\n",
       "      <td>North America</td>\n",
       "      <td>38.0</td>\n",
       "      <td>Yes</td>\n",
       "      <td>5.0</td>\n",
       "    </tr>\n",
       "    <tr>\n",
       "      <td>998</td>\n",
       "      <td>19664</td>\n",
       "      <td>Single</td>\n",
       "      <td>Male</td>\n",
       "      <td>100000.0</td>\n",
       "      <td>0.0</td>\n",
       "      <td>Bachelors</td>\n",
       "      <td>Management</td>\n",
       "      <td>Yes</td>\n",
       "      <td>3.0</td>\n",
       "      <td>10+ Miles</td>\n",
       "      <td>North America</td>\n",
       "      <td>38.0</td>\n",
       "      <td>No</td>\n",
       "      <td>0.0</td>\n",
       "    </tr>\n",
       "    <tr>\n",
       "      <td>999</td>\n",
       "      <td>12121</td>\n",
       "      <td>Single</td>\n",
       "      <td>Male</td>\n",
       "      <td>60000.0</td>\n",
       "      <td>0.0</td>\n",
       "      <td>High School</td>\n",
       "      <td>Professional</td>\n",
       "      <td>Yes</td>\n",
       "      <td>2.0</td>\n",
       "      <td>10+ Miles</td>\n",
       "      <td>North America</td>\n",
       "      <td>53.0</td>\n",
       "      <td>Yes</td>\n",
       "      <td>5.0</td>\n",
       "    </tr>\n",
       "  </tbody>\n",
       "</table>\n",
       "<p>971 rows × 14 columns</p>\n",
       "</div>"
      ],
      "text/plain": [
       "        ID Marital Status   Gender    Income  Children        Education  \\\n",
       "0    12496        Married   Female   40000.0       1.0        Bachelors   \n",
       "1    24107        Married     Male   30000.0       3.0  Partial College   \n",
       "2    14177        Married     Male   80000.0       5.0  Partial College   \n",
       "3    24381         Single  unknown   70000.0       0.0        Bachelors   \n",
       "4    25597         Single     Male   30000.0       0.0        Bachelors   \n",
       "..     ...            ...      ...       ...       ...              ...   \n",
       "995  23731        Married     Male   60000.0       2.0            other   \n",
       "996  28672         Single     Male   70000.0       0.0  Graduate Degree   \n",
       "997  11809        Married  unknown   60000.0       2.0        Bachelors   \n",
       "998  19664         Single     Male  100000.0       0.0        Bachelors   \n",
       "999  12121         Single     Male   60000.0       0.0      High School   \n",
       "\n",
       "         Occupation Home Owner  Cars Commute Distance         Region   Age  \\\n",
       "0    Skilled Manual        Yes   0.0        0-1 Miles         Europe  42.0   \n",
       "1          Clerical        Yes   1.0        0-1 Miles         Europe  43.0   \n",
       "2      Professional         No   2.0        2-5 Miles         Europe  60.0   \n",
       "3      Professional        Yes   1.0       5-10 Miles        Pacific  41.0   \n",
       "4          Clerical         No   0.0        10+ Miles         Europe  36.0   \n",
       "..              ...        ...   ...              ...            ...   ...   \n",
       "995    Professional        Yes   2.0        2-5 Miles  North America  54.0   \n",
       "996    Professional        Yes   0.0        2-5 Miles  North America  44.0   \n",
       "997  Skilled Manual        Yes   0.0        0-1 Miles  North America  38.0   \n",
       "998      Management        Yes   3.0        10+ Miles  North America  38.0   \n",
       "999    Professional        Yes   2.0        10+ Miles  North America  53.0   \n",
       "\n",
       "    Purchased Bike  Bike Used In Years  \n",
       "0               No                 0.0  \n",
       "1               No                 0.0  \n",
       "2               No                 0.0  \n",
       "3              Yes                 2.0  \n",
       "4              Yes                 2.0  \n",
       "..             ...                 ...  \n",
       "995            Yes                 5.0  \n",
       "996            Yes                 5.0  \n",
       "997            Yes                 5.0  \n",
       "998             No                 0.0  \n",
       "999            Yes                 5.0  \n",
       "\n",
       "[971 rows x 14 columns]"
      ]
     },
     "execution_count": 27,
     "metadata": {},
     "output_type": "execute_result"
    }
   ],
   "source": [
    "df   # data has been cleaned completely"
   ]
  },
  {
   "cell_type": "code",
   "execution_count": 28,
   "metadata": {},
   "outputs": [
    {
     "data": {
      "text/html": [
       "<div>\n",
       "<style scoped>\n",
       "    .dataframe tbody tr th:only-of-type {\n",
       "        vertical-align: middle;\n",
       "    }\n",
       "\n",
       "    .dataframe tbody tr th {\n",
       "        vertical-align: top;\n",
       "    }\n",
       "\n",
       "    .dataframe thead th {\n",
       "        text-align: right;\n",
       "    }\n",
       "</style>\n",
       "<table border=\"1\" class=\"dataframe\">\n",
       "  <thead>\n",
       "    <tr style=\"text-align: right;\">\n",
       "      <th></th>\n",
       "      <th>ID</th>\n",
       "      <th>Marital Status</th>\n",
       "      <th>Gender</th>\n",
       "      <th>Income</th>\n",
       "      <th>Children</th>\n",
       "      <th>Education</th>\n",
       "      <th>Occupation</th>\n",
       "      <th>Home Owner</th>\n",
       "      <th>Cars</th>\n",
       "      <th>Commute Distance</th>\n",
       "      <th>Region</th>\n",
       "      <th>Age</th>\n",
       "      <th>Purchased Bike</th>\n",
       "      <th>Bike Used In Years</th>\n",
       "    </tr>\n",
       "  </thead>\n",
       "  <tbody>\n",
       "    <tr>\n",
       "      <td>0</td>\n",
       "      <td>12496</td>\n",
       "      <td>Married</td>\n",
       "      <td>Female</td>\n",
       "      <td>40000.0</td>\n",
       "      <td>1.0</td>\n",
       "      <td>Bachelors</td>\n",
       "      <td>Skilled Manual</td>\n",
       "      <td>Yes</td>\n",
       "      <td>0.0</td>\n",
       "      <td>0-1 Miles</td>\n",
       "      <td>Europe</td>\n",
       "      <td>42.0</td>\n",
       "      <td>No</td>\n",
       "      <td>0.0</td>\n",
       "    </tr>\n",
       "    <tr>\n",
       "      <td>1</td>\n",
       "      <td>24107</td>\n",
       "      <td>Married</td>\n",
       "      <td>Male</td>\n",
       "      <td>30000.0</td>\n",
       "      <td>3.0</td>\n",
       "      <td>Partial College</td>\n",
       "      <td>Clerical</td>\n",
       "      <td>Yes</td>\n",
       "      <td>1.0</td>\n",
       "      <td>0-1 Miles</td>\n",
       "      <td>Europe</td>\n",
       "      <td>43.0</td>\n",
       "      <td>No</td>\n",
       "      <td>0.0</td>\n",
       "    </tr>\n",
       "    <tr>\n",
       "      <td>2</td>\n",
       "      <td>14177</td>\n",
       "      <td>Married</td>\n",
       "      <td>Male</td>\n",
       "      <td>80000.0</td>\n",
       "      <td>5.0</td>\n",
       "      <td>Partial College</td>\n",
       "      <td>Professional</td>\n",
       "      <td>No</td>\n",
       "      <td>2.0</td>\n",
       "      <td>2-5 Miles</td>\n",
       "      <td>Europe</td>\n",
       "      <td>60.0</td>\n",
       "      <td>No</td>\n",
       "      <td>0.0</td>\n",
       "    </tr>\n",
       "    <tr>\n",
       "      <td>3</td>\n",
       "      <td>24381</td>\n",
       "      <td>Single</td>\n",
       "      <td>unknown</td>\n",
       "      <td>70000.0</td>\n",
       "      <td>0.0</td>\n",
       "      <td>Bachelors</td>\n",
       "      <td>Professional</td>\n",
       "      <td>Yes</td>\n",
       "      <td>1.0</td>\n",
       "      <td>5-10 Miles</td>\n",
       "      <td>Pacific</td>\n",
       "      <td>41.0</td>\n",
       "      <td>Yes</td>\n",
       "      <td>2.0</td>\n",
       "    </tr>\n",
       "    <tr>\n",
       "      <td>4</td>\n",
       "      <td>25597</td>\n",
       "      <td>Single</td>\n",
       "      <td>Male</td>\n",
       "      <td>30000.0</td>\n",
       "      <td>0.0</td>\n",
       "      <td>Bachelors</td>\n",
       "      <td>Clerical</td>\n",
       "      <td>No</td>\n",
       "      <td>0.0</td>\n",
       "      <td>10+ Miles</td>\n",
       "      <td>Europe</td>\n",
       "      <td>36.0</td>\n",
       "      <td>Yes</td>\n",
       "      <td>2.0</td>\n",
       "    </tr>\n",
       "    <tr>\n",
       "      <td>...</td>\n",
       "      <td>...</td>\n",
       "      <td>...</td>\n",
       "      <td>...</td>\n",
       "      <td>...</td>\n",
       "      <td>...</td>\n",
       "      <td>...</td>\n",
       "      <td>...</td>\n",
       "      <td>...</td>\n",
       "      <td>...</td>\n",
       "      <td>...</td>\n",
       "      <td>...</td>\n",
       "      <td>...</td>\n",
       "      <td>...</td>\n",
       "      <td>...</td>\n",
       "    </tr>\n",
       "    <tr>\n",
       "      <td>966</td>\n",
       "      <td>23731</td>\n",
       "      <td>Married</td>\n",
       "      <td>Male</td>\n",
       "      <td>60000.0</td>\n",
       "      <td>2.0</td>\n",
       "      <td>other</td>\n",
       "      <td>Professional</td>\n",
       "      <td>Yes</td>\n",
       "      <td>2.0</td>\n",
       "      <td>2-5 Miles</td>\n",
       "      <td>North America</td>\n",
       "      <td>54.0</td>\n",
       "      <td>Yes</td>\n",
       "      <td>5.0</td>\n",
       "    </tr>\n",
       "    <tr>\n",
       "      <td>967</td>\n",
       "      <td>28672</td>\n",
       "      <td>Single</td>\n",
       "      <td>Male</td>\n",
       "      <td>70000.0</td>\n",
       "      <td>0.0</td>\n",
       "      <td>Graduate Degree</td>\n",
       "      <td>Professional</td>\n",
       "      <td>Yes</td>\n",
       "      <td>0.0</td>\n",
       "      <td>2-5 Miles</td>\n",
       "      <td>North America</td>\n",
       "      <td>44.0</td>\n",
       "      <td>Yes</td>\n",
       "      <td>5.0</td>\n",
       "    </tr>\n",
       "    <tr>\n",
       "      <td>968</td>\n",
       "      <td>11809</td>\n",
       "      <td>Married</td>\n",
       "      <td>unknown</td>\n",
       "      <td>60000.0</td>\n",
       "      <td>2.0</td>\n",
       "      <td>Bachelors</td>\n",
       "      <td>Skilled Manual</td>\n",
       "      <td>Yes</td>\n",
       "      <td>0.0</td>\n",
       "      <td>0-1 Miles</td>\n",
       "      <td>North America</td>\n",
       "      <td>38.0</td>\n",
       "      <td>Yes</td>\n",
       "      <td>5.0</td>\n",
       "    </tr>\n",
       "    <tr>\n",
       "      <td>969</td>\n",
       "      <td>19664</td>\n",
       "      <td>Single</td>\n",
       "      <td>Male</td>\n",
       "      <td>100000.0</td>\n",
       "      <td>0.0</td>\n",
       "      <td>Bachelors</td>\n",
       "      <td>Management</td>\n",
       "      <td>Yes</td>\n",
       "      <td>3.0</td>\n",
       "      <td>10+ Miles</td>\n",
       "      <td>North America</td>\n",
       "      <td>38.0</td>\n",
       "      <td>No</td>\n",
       "      <td>0.0</td>\n",
       "    </tr>\n",
       "    <tr>\n",
       "      <td>970</td>\n",
       "      <td>12121</td>\n",
       "      <td>Single</td>\n",
       "      <td>Male</td>\n",
       "      <td>60000.0</td>\n",
       "      <td>0.0</td>\n",
       "      <td>High School</td>\n",
       "      <td>Professional</td>\n",
       "      <td>Yes</td>\n",
       "      <td>2.0</td>\n",
       "      <td>10+ Miles</td>\n",
       "      <td>North America</td>\n",
       "      <td>53.0</td>\n",
       "      <td>Yes</td>\n",
       "      <td>5.0</td>\n",
       "    </tr>\n",
       "  </tbody>\n",
       "</table>\n",
       "<p>971 rows × 14 columns</p>\n",
       "</div>"
      ],
      "text/plain": [
       "        ID Marital Status   Gender    Income  Children        Education  \\\n",
       "0    12496        Married   Female   40000.0       1.0        Bachelors   \n",
       "1    24107        Married     Male   30000.0       3.0  Partial College   \n",
       "2    14177        Married     Male   80000.0       5.0  Partial College   \n",
       "3    24381         Single  unknown   70000.0       0.0        Bachelors   \n",
       "4    25597         Single     Male   30000.0       0.0        Bachelors   \n",
       "..     ...            ...      ...       ...       ...              ...   \n",
       "966  23731        Married     Male   60000.0       2.0            other   \n",
       "967  28672         Single     Male   70000.0       0.0  Graduate Degree   \n",
       "968  11809        Married  unknown   60000.0       2.0        Bachelors   \n",
       "969  19664         Single     Male  100000.0       0.0        Bachelors   \n",
       "970  12121         Single     Male   60000.0       0.0      High School   \n",
       "\n",
       "         Occupation Home Owner  Cars Commute Distance         Region   Age  \\\n",
       "0    Skilled Manual        Yes   0.0        0-1 Miles         Europe  42.0   \n",
       "1          Clerical        Yes   1.0        0-1 Miles         Europe  43.0   \n",
       "2      Professional         No   2.0        2-5 Miles         Europe  60.0   \n",
       "3      Professional        Yes   1.0       5-10 Miles        Pacific  41.0   \n",
       "4          Clerical         No   0.0        10+ Miles         Europe  36.0   \n",
       "..              ...        ...   ...              ...            ...   ...   \n",
       "966    Professional        Yes   2.0        2-5 Miles  North America  54.0   \n",
       "967    Professional        Yes   0.0        2-5 Miles  North America  44.0   \n",
       "968  Skilled Manual        Yes   0.0        0-1 Miles  North America  38.0   \n",
       "969      Management        Yes   3.0        10+ Miles  North America  38.0   \n",
       "970    Professional        Yes   2.0        10+ Miles  North America  53.0   \n",
       "\n",
       "    Purchased Bike  Bike Used In Years  \n",
       "0               No                 0.0  \n",
       "1               No                 0.0  \n",
       "2               No                 0.0  \n",
       "3              Yes                 2.0  \n",
       "4              Yes                 2.0  \n",
       "..             ...                 ...  \n",
       "966            Yes                 5.0  \n",
       "967            Yes                 5.0  \n",
       "968            Yes                 5.0  \n",
       "969             No                 0.0  \n",
       "970            Yes                 5.0  \n",
       "\n",
       "[971 rows x 14 columns]"
      ]
     },
     "execution_count": 28,
     "metadata": {},
     "output_type": "execute_result"
    }
   ],
   "source": [
    "#so we have our final cleaned data and stored it in a new csv file for later use ...\n",
    "data=df.to_csv('cleaned_data.csv',index=False)\n",
    "df7 = pd.read_csv('cleaned_data.csv')     \n",
    "df7"
   ]
  },
  {
   "cell_type": "markdown",
   "metadata": {},
   "source": [
    "# EXPLORATORY DATA ANALYSIS\n",
    "# GRAPH VISUALIZATION:-"
   ]
  },
  {
   "cell_type": "code",
   "execution_count": 29,
   "metadata": {},
   "outputs": [
    {
     "name": "stdout",
     "output_type": "stream",
     "text": [
      "Number of numerical variables is  6\n"
     ]
    },
    {
     "data": {
      "text/html": [
       "<div>\n",
       "<style scoped>\n",
       "    .dataframe tbody tr th:only-of-type {\n",
       "        vertical-align: middle;\n",
       "    }\n",
       "\n",
       "    .dataframe tbody tr th {\n",
       "        vertical-align: top;\n",
       "    }\n",
       "\n",
       "    .dataframe thead th {\n",
       "        text-align: right;\n",
       "    }\n",
       "</style>\n",
       "<table border=\"1\" class=\"dataframe\">\n",
       "  <thead>\n",
       "    <tr style=\"text-align: right;\">\n",
       "      <th></th>\n",
       "      <th>ID</th>\n",
       "      <th>Income</th>\n",
       "      <th>Children</th>\n",
       "      <th>Cars</th>\n",
       "      <th>Age</th>\n",
       "      <th>Bike Used In Years</th>\n",
       "    </tr>\n",
       "  </thead>\n",
       "  <tbody>\n",
       "    <tr>\n",
       "      <td>0</td>\n",
       "      <td>12496</td>\n",
       "      <td>40000.0</td>\n",
       "      <td>1.0</td>\n",
       "      <td>0.0</td>\n",
       "      <td>42.0</td>\n",
       "      <td>0.0</td>\n",
       "    </tr>\n",
       "    <tr>\n",
       "      <td>1</td>\n",
       "      <td>24107</td>\n",
       "      <td>30000.0</td>\n",
       "      <td>3.0</td>\n",
       "      <td>1.0</td>\n",
       "      <td>43.0</td>\n",
       "      <td>0.0</td>\n",
       "    </tr>\n",
       "    <tr>\n",
       "      <td>2</td>\n",
       "      <td>14177</td>\n",
       "      <td>80000.0</td>\n",
       "      <td>5.0</td>\n",
       "      <td>2.0</td>\n",
       "      <td>60.0</td>\n",
       "      <td>0.0</td>\n",
       "    </tr>\n",
       "    <tr>\n",
       "      <td>3</td>\n",
       "      <td>24381</td>\n",
       "      <td>70000.0</td>\n",
       "      <td>0.0</td>\n",
       "      <td>1.0</td>\n",
       "      <td>41.0</td>\n",
       "      <td>2.0</td>\n",
       "    </tr>\n",
       "    <tr>\n",
       "      <td>4</td>\n",
       "      <td>25597</td>\n",
       "      <td>30000.0</td>\n",
       "      <td>0.0</td>\n",
       "      <td>0.0</td>\n",
       "      <td>36.0</td>\n",
       "      <td>2.0</td>\n",
       "    </tr>\n",
       "  </tbody>\n",
       "</table>\n",
       "</div>"
      ],
      "text/plain": [
       "      ID   Income  Children  Cars   Age  Bike Used In Years\n",
       "0  12496  40000.0       1.0   0.0  42.0                 0.0\n",
       "1  24107  30000.0       3.0   1.0  43.0                 0.0\n",
       "2  14177  80000.0       5.0   2.0  60.0                 0.0\n",
       "3  24381  70000.0       0.0   1.0  41.0                 2.0\n",
       "4  25597  30000.0       0.0   0.0  36.0                 2.0"
      ]
     },
     "execution_count": 29,
     "metadata": {},
     "output_type": "execute_result"
    }
   ],
   "source": [
    "numerical_features=[feature for feature in df.columns if df[feature].dtypes!= 'O']   #printing all numerical features\n",
    "print(\"Number of numerical variables is \",len(numerical_features))\n",
    "df[numerical_features].head()"
   ]
  },
  {
   "cell_type": "markdown",
   "metadata": {},
   "source": [
    "OUTLIERS CHECKING:-"
   ]
  },
  {
   "cell_type": "code",
   "execution_count": 30,
   "metadata": {},
   "outputs": [
    {
     "data": {
      "text/plain": [
       "<matplotlib.axes._subplots.AxesSubplot at 0x19cb4396e48>"
      ]
     },
     "execution_count": 30,
     "metadata": {},
     "output_type": "execute_result"
    },
    {
     "data": {
      "image/png": "[encoded data removed]",
      "text/plain": [
       "<Figure size 432x288 with 1 Axes>"
      ]
     },
     "metadata": {
      "needs_background": "light"
     },
     "output_type": "display_data"
    }
   ],
   "source": [
    "#checking for outliers in Income column\n",
    "sns.boxplot(x=df['Income'])"
   ]
  },
  {
   "cell_type": "code",
   "execution_count": 31,
   "metadata": {},
   "outputs": [
    {
     "name": "stdout",
     "output_type": "stream",
     "text": [
      "0.7635214530849651\n",
      "20000.0\n",
      "90000.0\n"
     ]
    },
    {
     "data": {
      "text/plain": [
       "<matplotlib.axes._subplots.AxesSubplot at 0x19cb441d0c8>"
      ]
     },
     "execution_count": 31,
     "metadata": {},
     "output_type": "execute_result"
    },
    {
     "data": {
      "image/png": "[encoded data removed]",
      "text/plain": [
       "<Figure size 432x288 with 1 Axes>"
      ]
     },
     "metadata": {
      "needs_background": "light"
     },
     "output_type": "display_data"
    }
   ],
   "source": [
    "#It has 3 outlier,so lets filter and remove it\n",
    "print(df['Income'].skew())\n",
    "df['Income'].describe()\n",
    "print(df['Income'].quantile(0.10))\n",
    "print(df['Income'].quantile(0.90))\n",
    "df['Income']=np.where(df['Income'] <20000.0, 20000.0,df['Income'])\n",
    "df['Income']=np.where(df['Income'] >90000.0, 90000.0,df['Income'])\n",
    "df['Income'].skew()\n",
    "df['Income'].describe()\n",
    "sns.boxplot(x=df['Income'])"
   ]
  },
  {
   "cell_type": "code",
   "execution_count": 32,
   "metadata": {},
   "outputs": [
    {
     "data": {
      "text/plain": [
       "<matplotlib.axes._subplots.AxesSubplot at 0x19cb44a1888>"
      ]
     },
     "execution_count": 32,
     "metadata": {},
     "output_type": "execute_result"
    },
    {
     "data": {
      "image/png": "[encoded data removed]",
      "text/plain": [
       "<Figure size 432x288 with 1 Axes>"
      ]
     },
     "metadata": {
      "needs_background": "light"
     },
     "output_type": "display_data"
    }
   ],
   "source": [
    "#checking for outliers in Children column\n",
    "sns.boxplot(x=df['Children'])\n",
    "#no outliers"
   ]
  },
  {
   "cell_type": "code",
   "execution_count": 33,
   "metadata": {},
   "outputs": [
    {
     "data": {
      "text/plain": [
       "<matplotlib.axes._subplots.AxesSubplot at 0x19cb442d948>"
      ]
     },
     "execution_count": 33,
     "metadata": {},
     "output_type": "execute_result"
    },
    {
     "data": {
      "image/png": "[encoded data removed]",
      "text/plain": [
       "<Figure size 432x288 with 1 Axes>"
      ]
     },
     "metadata": {
      "needs_background": "light"
     },
     "output_type": "display_data"
    }
   ],
   "source": [
    "#checking for outliers in Cars column\n",
    "sns.boxplot(x=df['Cars'])"
   ]
  },
  {
   "cell_type": "code",
   "execution_count": 34,
   "metadata": {},
   "outputs": [
    {
     "name": "stdout",
     "output_type": "stream",
     "text": [
      "0.40948720309647885\n",
      "0.0\n",
      "3.0\n"
     ]
    },
    {
     "data": {
      "text/plain": [
       "<matplotlib.axes._subplots.AxesSubplot at 0x19cb457bdc8>"
      ]
     },
     "execution_count": 34,
     "metadata": {},
     "output_type": "execute_result"
    },
    {
     "data": {
      "image/png": "[encoded data removed]",
      "text/plain": [
       "<Figure size 432x288 with 1 Axes>"
      ]
     },
     "metadata": {
      "needs_background": "light"
     },
     "output_type": "display_data"
    }
   ],
   "source": [
    "#It has 1 outlier,so lets filter and remove it\n",
    "print(df['Cars'].skew())\n",
    "df['Cars'].describe()\n",
    "print(df['Cars'].quantile(0.10))\n",
    "print(df['Cars'].quantile(0.90))\n",
    "df['Cars']=np.where(df['Cars'] <0.0, 0.0,df['Cars'])\n",
    "df['Cars']=np.where(df['Cars'] >3.0, 3.0,df['Cars'])\n",
    "df['Cars'].skew()\n",
    "df['Cars'].describe()\n",
    "sns.boxplot(x=df['Cars'])"
   ]
  },
  {
   "cell_type": "code",
   "execution_count": 35,
   "metadata": {},
   "outputs": [
    {
     "data": {
      "text/plain": [
       "<matplotlib.axes._subplots.AxesSubplot at 0x19cb44a1448>"
      ]
     },
     "execution_count": 35,
     "metadata": {},
     "output_type": "execute_result"
    },
    {
     "data": {
      "image/png": "[encoded data removed]",
      "text/plain": [
       "<Figure size 432x288 with 1 Axes>"
      ]
     },
     "metadata": {
      "needs_background": "light"
     },
     "output_type": "display_data"
    }
   ],
   "source": [
    "#checking for outliers in Age column\n",
    "sns.boxplot(x=df['Age'])\n"
   ]
  },
  {
   "cell_type": "code",
   "execution_count": 36,
   "metadata": {},
   "outputs": [
    {
     "name": "stdout",
     "output_type": "stream",
     "text": [
      "0.49171150129816127\n",
      "30.0\n",
      "61.0\n"
     ]
    },
    {
     "data": {
      "text/plain": [
       "<matplotlib.axes._subplots.AxesSubplot at 0x19cb4648248>"
      ]
     },
     "execution_count": 36,
     "metadata": {},
     "output_type": "execute_result"
    },
    {
     "data": {
      "image/png": "[encoded data removed]",
      "text/plain": [
       "<Figure size 432x288 with 1 Axes>"
      ]
     },
     "metadata": {
      "needs_background": "light"
     },
     "output_type": "display_data"
    }
   ],
   "source": [
    "#It has 2 outlier,so lets filter and remove it\n",
    "print(df['Age'].skew())\n",
    "df['Age'].describe()\n",
    "print(df['Age'].quantile(0.10))\n",
    "print(df['Age'].quantile(0.90))\n",
    "df['Age']=np.where(df['Age'] <30.0, 30.0,df['Age'])\n",
    "df['Age']=np.where(df['Age'] >61.0, 61.0,df['Age'])\n",
    "df['Age'].skew()\n",
    "df['Age'].describe()\n",
    "sns.boxplot(x=df['Age'])"
   ]
  },
  {
   "cell_type": "code",
   "execution_count": 37,
   "metadata": {},
   "outputs": [
    {
     "data": {
      "text/plain": [
       "<matplotlib.axes._subplots.AxesSubplot at 0x19cb46a2208>"
      ]
     },
     "execution_count": 37,
     "metadata": {},
     "output_type": "execute_result"
    },
    {
     "data": {
      "image/png": "[encoded data removed]",
      "text/plain": [
       "<Figure size 432x288 with 1 Axes>"
      ]
     },
     "metadata": {
      "needs_background": "light"
     },
     "output_type": "display_data"
    }
   ],
   "source": [
    "#checking for outliers in Bike Used In Years column\n",
    "sns.boxplot(x=df['Bike Used In Years'])"
   ]
  },
  {
   "cell_type": "code",
   "execution_count": 38,
   "metadata": {},
   "outputs": [
    {
     "name": "stdout",
     "output_type": "stream",
     "text": [
      "1.1704295295798928\n",
      "0.0\n",
      "5.0\n"
     ]
    },
    {
     "data": {
      "text/plain": [
       "<matplotlib.axes._subplots.AxesSubplot at 0x19cb471ab88>"
      ]
     },
     "execution_count": 38,
     "metadata": {},
     "output_type": "execute_result"
    },
    {
     "data": {
      "image/png": "[encoded data removed]",
      "text/plain": [
       "<Figure size 432x288 with 1 Axes>"
      ]
     },
     "metadata": {
      "needs_background": "light"
     },
     "output_type": "display_data"
    }
   ],
   "source": [
    "#It has 2 outlier,so lets filter and remove it\n",
    "print(df['Bike Used In Years'].skew())\n",
    "df['Bike Used In Years'].describe()\n",
    "print(df['Bike Used In Years'].quantile(0.10))\n",
    "print(df['Bike Used In Years'].quantile(0.90))\n",
    "df['Bike Used In Years']=np.where(df['Bike Used In Years'] <0.0,  0.0,df['Bike Used In Years'])\n",
    "df['Bike Used In Years']=np.where(df['Bike Used In Years'] >5.0,  5.0,df['Bike Used In Years'])\n",
    "df['Bike Used In Years'].skew()\n",
    "df['Bike Used In Years'].describe()\n",
    "sns.boxplot(x=df['Bike Used In Years'])"
   ]
  },
  {
   "cell_type": "code",
   "execution_count": 39,
   "metadata": {},
   "outputs": [],
   "source": [
    "grp = df.groupby('Age')                                        #categorising and visualising our data\n",
    "x = grp['Income'].agg(np.mean)\n",
    "y = grp['Cars'].agg(np.sum)\n",
    "z = grp['Bike Used In Years'].agg(np.mean)"
   ]
  },
  {
   "cell_type": "code",
   "execution_count": 40,
   "metadata": {},
   "outputs": [
    {
     "data": {
      "image/png": "[encoded data removed]",
      "text/plain": [
       "<Figure size 1152x360 with 1 Axes>"
      ]
     },
     "metadata": {
      "needs_background": "light"
     },
     "output_type": "display_data"
    }
   ],
   "source": [
    "plt.figure(figsize=(16,5))                         #data visualising using scatterplot                \n",
    "plt.plot(x,'ro', color='r')\n",
    "plt.xticks(rotation=90)\n",
    "plt.title('Age wise Income')\n",
    "plt.xlabel('age-->')\n",
    "plt.ylabel('Income-->')\n",
    "plt.show()"
   ]
  },
  {
   "cell_type": "code",
   "execution_count": 41,
   "metadata": {
    "scrolled": true
   },
   "outputs": [
    {
     "data": {
      "text/plain": [
       "Text(0.5, 1.0, 'The frequency of each category in the dataset')"
      ]
     },
     "execution_count": 41,
     "metadata": {},
     "output_type": "execute_result"
    },
    {
     "data": {
      "image/png": "[encoded data removed]",
      "text/plain": [
       "<Figure size 432x288 with 1 Axes>"
      ]
     },
     "metadata": {
      "needs_background": "light"
     },
     "output_type": "display_data"
    }
   ],
   "source": [
    "df['Gender'].value_counts().plot(kind='bar')\n",
    "plt.xlabel('Gender')                                                  #data visualising using bar graphs\n",
    "plt.ylabel('frequency')\n",
    "plt.title('The frequency of each category in the dataset')"
   ]
  },
  {
   "cell_type": "code",
   "execution_count": 42,
   "metadata": {},
   "outputs": [
    {
     "data": {
      "text/plain": [
       "Text(0.5, 1.0, 'The frequency of each category in the dataset')"
      ]
     },
     "execution_count": 42,
     "metadata": {},
     "output_type": "execute_result"
    },
    {
     "data": {
      "image/png": "[encoded data removed]",
      "text/plain": [
       "<Figure size 432x288 with 1 Axes>"
      ]
     },
     "metadata": {
      "needs_background": "light"
     },
     "output_type": "display_data"
    }
   ],
   "source": [
    "df[\"Occupation\"] = df[\"Occupation\"].replace(to_replace =\"#NAME?\", \n",
    "                 value =\"Government\")\n",
    "\n",
    "df['Occupation'].value_counts().plot(kind='bar')\n",
    "plt.xlabel('Occupation')\n",
    "plt.ylabel('frequency')\n",
    "plt.title('The frequency of each category in the dataset')"
   ]
  },
  {
   "cell_type": "code",
   "execution_count": 43,
   "metadata": {},
   "outputs": [
    {
     "data": {
      "text/plain": [
       "Text(0.5, 1.0, 'The frequency of each category in the dataset')"
      ]
     },
     "execution_count": 43,
     "metadata": {},
     "output_type": "execute_result"
    },
    {
     "data": {
      "image/png": "[encoded data removed]",
      "text/plain": [
       "<Figure size 432x288 with 1 Axes>"
      ]
     },
     "metadata": {
      "needs_background": "light"
     },
     "output_type": "display_data"
    }
   ],
   "source": [
    "df['Region'].value_counts().plot(kind='bar')\n",
    "plt.xlabel('Region')\n",
    "plt.ylabel('frequency')\n",
    "plt.title('The frequency of each category in the dataset')"
   ]
  },
  {
   "cell_type": "code",
   "execution_count": 44,
   "metadata": {},
   "outputs": [
    {
     "data": {
      "text/plain": [
       "Text(0.5, 1.0, 'The frequency of each category in the dataset')"
      ]
     },
     "execution_count": 44,
     "metadata": {},
     "output_type": "execute_result"
    },
    {
     "data": {
      "image/png": "[encoded data removed]",
      "text/plain": [
       "<Figure size 432x288 with 1 Axes>"
      ]
     },
     "metadata": {
      "needs_background": "light"
     },
     "output_type": "display_data"
    }
   ],
   "source": [
    "df['Purchased Bike'].value_counts().plot(kind='bar')\n",
    "plt.xlabel('Purchased Bike')\n",
    "plt.ylabel('frequency')\n",
    "plt.title('The frequency of each category in the dataset')"
   ]
  },
  {
   "cell_type": "code",
   "execution_count": 45,
   "metadata": {},
   "outputs": [
    {
     "data": {
      "image/png": "[encoded data removed]",
      "text/plain": [
       "<Figure size 432x288 with 1 Axes>"
      ]
     },
     "metadata": {
      "needs_background": "light"
     },
     "output_type": "display_data"
    }
   ],
   "source": [
    "plt.boxplot(df['Age'])                      #data visualising using boxplot\n",
    "plt.show()"
   ]
  },
  {
   "cell_type": "code",
   "execution_count": 46,
   "metadata": {},
   "outputs": [
    {
     "data": {
      "text/plain": [
       "Text(0.5, 1.0, 'The frequency of each category in the dataset')"
      ]
     },
     "execution_count": 46,
     "metadata": {},
     "output_type": "execute_result"
    },
    {
     "data": {
      "image/png": "[encoded data removed]",
      "text/plain": [
       "<Figure size 432x288 with 1 Axes>"
      ]
     },
     "metadata": {
      "needs_background": "light"
     },
     "output_type": "display_data"
    }
   ],
   "source": [
    "df['Marital Status'].value_counts().plot(kind='bar')\n",
    "plt.xlabel('Marital Status')\n",
    "plt.ylabel('frequency')\n",
    "plt.title('The frequency of each category in the dataset')"
   ]
  },
  {
   "cell_type": "code",
   "execution_count": 47,
   "metadata": {},
   "outputs": [
    {
     "data": {
      "text/plain": [
       "Text(0.5, 1.0, 'The frequency of each category in the dataset')"
      ]
     },
     "execution_count": 47,
     "metadata": {},
     "output_type": "execute_result"
    },
    {
     "data": {
      "image/png": "[encoded data removed]",
      "text/plain": [
       "<Figure size 432x288 with 1 Axes>"
      ]
     },
     "metadata": {
      "needs_background": "light"
     },
     "output_type": "display_data"
    }
   ],
   "source": [
    "df['Home Owner'].value_counts().plot(kind='bar')\n",
    "plt.xlabel('Home Owner')\n",
    "plt.ylabel('frequency')\n",
    "plt.title('The frequency of each category in the dataset')"
   ]
  },
  {
   "cell_type": "code",
   "execution_count": 48,
   "metadata": {},
   "outputs": [
    {
     "data": {
      "text/plain": [
       "Text(0.5, 1.0, 'The frequency of each category in the dataset')"
      ]
     },
     "execution_count": 48,
     "metadata": {},
     "output_type": "execute_result"
    },
    {
     "data": {
      "image/png": "[encoded data removed]",
      "text/plain": [
       "<Figure size 432x288 with 1 Axes>"
      ]
     },
     "metadata": {
      "needs_background": "light"
     },
     "output_type": "display_data"
    }
   ],
   "source": [
    "df['Education'].value_counts().plot(kind='bar')\n",
    "plt.xlabel('Education')\n",
    "plt.ylabel('frequency')\n",
    "plt.title('The frequency of each category in the dataset')"
   ]
  },
  {
   "cell_type": "code",
   "execution_count": 49,
   "metadata": {},
   "outputs": [
    {
     "data": {
      "text/plain": [
       "Text(0.5, 1.0, 'The frequency of each category in the dataset')"
      ]
     },
     "execution_count": 49,
     "metadata": {},
     "output_type": "execute_result"
    },
    {
     "data": {
      "image/png": "[encoded data removed]",
      "text/plain": [
       "<Figure size 432x288 with 1 Axes>"
      ]
     },
     "metadata": {
      "needs_background": "light"
     },
     "output_type": "display_data"
    }
   ],
   "source": [
    "df['Commute Distance'].value_counts().plot(kind='bar')\n",
    "plt.xlabel('Commute Distance')\n",
    "plt.ylabel('frequency')\n",
    "plt.title('The frequency of each category in the dataset')"
   ]
  },
  {
   "cell_type": "code",
   "execution_count": 50,
   "metadata": {},
   "outputs": [
    {
     "data": {
      "image/png": "[encoded data removed]",
      "text/plain": [
       "<Figure size 432x288 with 1 Axes>"
      ]
     },
     "metadata": {},
     "output_type": "display_data"
    },
    {
     "data": {
      "image/png": "[encoded data removed]",
      "text/plain": [
       "<Figure size 432x288 with 1 Axes>"
      ]
     },
     "metadata": {},
     "output_type": "display_data"
    },
    {
     "data": {
      "image/png": "[encoded data removed]",
      "text/plain": [
       "<Figure size 432x288 with 1 Axes>"
      ]
     },
     "metadata": {},
     "output_type": "display_data"
    }
   ],
   "source": [
    "df.Region.value_counts()                      \n",
    "df.Region.value_counts().plot.pie()                   #piechart for data visualization\n",
    "plt.show()\n",
    "df.Education.value_counts()\n",
    "df.Education.value_counts().plot.pie()\n",
    "plt.show()\n",
    "df.Occupation.value_counts()\n",
    "df.Occupation.value_counts().plot.pie()\n",
    "plt.show()"
   ]
  },
  {
   "cell_type": "code",
   "execution_count": 51,
   "metadata": {
    "scrolled": false
   },
   "outputs": [
    {
     "data": {
      "image/png": "[encoded data removed]",
      "text/plain": [
       "<Figure size 432x288 with 1 Axes>"
      ]
     },
     "metadata": {
      "needs_background": "light"
     },
     "output_type": "display_data"
    },
    {
     "data": {
      "image/png": "[encoded data removed]",
      "text/plain": [
       "<Figure size 432x288 with 1 Axes>"
      ]
     },
     "metadata": {
      "needs_background": "light"
     },
     "output_type": "display_data"
    },
    {
     "data": {
      "image/png": "[encoded data removed]",
      "text/plain": [
       "<Figure size 432x288 with 1 Axes>"
      ]
     },
     "metadata": {
      "needs_background": "light"
     },
     "output_type": "display_data"
    },
    {
     "data": {
      "image/png": "[encoded data removed]",
      "text/plain": [
       "<Figure size 432x288 with 1 Axes>"
      ]
     },
     "metadata": {
      "needs_background": "light"
     },
     "output_type": "display_data"
    },
    {
     "data": {
      "image/png": "[encoded data removed]",
      "text/plain": [
       "<Figure size 432x288 with 1 Axes>"
      ]
     },
     "metadata": {
      "needs_background": "light"
     },
     "output_type": "display_data"
    }
   ],
   "source": [
    "n_bins = [10,20,30,40,50,60,70,80,90,100]     #no of bins \n",
    "bin_heights, bins, patches = plt.hist(df[\"Age\"], facecolor='blue')\n",
    "plt.title('age frequency')\n",
    "plt.ylabel('No:of people')\n",
    "plt.xlabel('age')                                                                 #HISTOGRAM DATA VISUALIZATION\n",
    "plt.show()\n",
    "n_bins=[10000,20000,30000,40000,50000,60000,70000,80000,90000]\n",
    "bin_heights, bins, patches = plt.hist(df[\"Income\"], facecolor='green')\n",
    "plt.title('Income frequency')\n",
    "plt.ylabel('N0: of people')\n",
    "plt.xlabel('Income')\n",
    "plt.show()\n",
    "n_bins=[1,2,3,4,5,6,7,8,9,10]\n",
    "bin_heights, bins, patches = plt.hist(df[\"Cars\"], facecolor='purple')\n",
    "plt.title('Cars frequency')\n",
    "plt.ylabel('No:of people')\n",
    "plt.xlabel('Cars')\n",
    "plt.show()\n",
    "n_bins=[1,2,3,4,5,6,7,8,9,10]\n",
    "bin_heights, bins, patches = plt.hist(df[\"Cars\"], facecolor='orange')\n",
    "plt.title('Children frequency')\n",
    "plt.ylabel('No:of people')\n",
    "plt.xlabel('Children')\n",
    "plt.show()\n",
    "n_bins=[1,2,3,4,5,6,7,8,9,10]\n",
    "bin_heights, bins, patches = plt.hist(df[\"Bike Used In Years\"], facecolor='pink')\n",
    "plt.title('Bike Used In Years frequency')\n",
    "plt.ylabel('No:of people')\n",
    "plt.xlabel('Bike Used In Years')\n",
    "plt.show()\n"
   ]
  },
  {
   "cell_type": "markdown",
   "metadata": {},
   "source": [
    "# STANDARDISATION AND NORMALISATION"
   ]
  },
  {
   "cell_type": "code",
   "execution_count": 52,
   "metadata": {},
   "outputs": [
    {
     "name": "stdout",
     "output_type": "stream",
     "text": [
      "43.91555097837281 98.13306719610986\n"
     ]
    }
   ],
   "source": [
    "import statistics                                              #mean and variance finding\n",
    "agemean = statistics.mean(df[\"Age\"])\n",
    "agevar = statistics.variance(df[\"Age\"])\n",
    "print(agemean,agevar)"
   ]
  },
  {
   "cell_type": "code",
   "execution_count": 53,
   "metadata": {},
   "outputs": [
    {
     "name": "stdout",
     "output_type": "stream",
     "text": [
      "54057.672502574664 537332752.9276865\n"
     ]
    }
   ],
   "source": [
    "incomemean = statistics.mean(df[\"Income\"])\n",
    "incomevar = statistics.variance(df[\"Income\"])\n",
    "print(incomemean,incomevar)"
   ]
  },
  {
   "cell_type": "code",
   "execution_count": 54,
   "metadata": {},
   "outputs": [
    {
     "data": {
      "text/plain": [
       "ID                    19953.387230\n",
       "Income                54057.672503\n",
       "Children                  1.134912\n",
       "Cars                      1.407827\n",
       "Age                      43.915551\n",
       "Bike Used In Years        1.812564\n",
       "dtype: float64"
      ]
     },
     "execution_count": 54,
     "metadata": {},
     "output_type": "execute_result"
    }
   ],
   "source": [
    "df.mean()   #gives the mean of all numerical data type columns"
   ]
  },
  {
   "cell_type": "code",
   "execution_count": 55,
   "metadata": {},
   "outputs": [
    {
     "name": "stdout",
     "output_type": "stream",
     "text": [
      "1.8125643666323379 4.511223417244418\n"
     ]
    }
   ],
   "source": [
    "bikesusedmean = statistics.mean(df[\"Bike Used In Years\"])\n",
    "bikesusedvar = statistics.variance(df[\"Bike Used In Years\"])\n",
    "print(bikesusedmean,bikesusedvar)"
   ]
  },
  {
   "cell_type": "code",
   "execution_count": 56,
   "metadata": {},
   "outputs": [
    {
     "data": {
      "text/plain": [
       "ID                     5353.528605\n",
       "Income                23180.439015\n",
       "Children                  1.576675\n",
       "Cars                      0.999227\n",
       "Age                       9.906214\n",
       "Bike Used In Years        2.123964\n",
       "dtype: float64"
      ]
     },
     "execution_count": 56,
     "metadata": {},
     "output_type": "execute_result"
    }
   ],
   "source": [
    "df.std()    #gives the standard deviation of all numerical data type columns"
   ]
  },
  {
   "cell_type": "code",
   "execution_count": 57,
   "metadata": {},
   "outputs": [
    {
     "name": "stdout",
     "output_type": "stream",
     "text": [
      "1.407826982492276 0.9984541391062461\n"
     ]
    }
   ],
   "source": [
    "carsmean = statistics.mean(df[\"Cars\"])\n",
    "carsvar = statistics.variance(df[\"Cars\"])\n",
    "print(carsmean,carsvar)"
   ]
  },
  {
   "cell_type": "code",
   "execution_count": 58,
   "metadata": {},
   "outputs": [
    {
     "name": "stdout",
     "output_type": "stream",
     "text": [
      "1.1349124613800206 2.485903574803317\n"
     ]
    }
   ],
   "source": [
    "childrenmean = statistics.mean(df[\"Children\"])\n",
    "childrenvar = statistics.variance(df[\"Children\"])\n",
    "print(childrenmean,childrenvar)"
   ]
  },
  {
   "cell_type": "code",
   "execution_count": 59,
   "metadata": {},
   "outputs": [
    {
     "data": {
      "text/plain": [
       "<matplotlib.axes._subplots.AxesSubplot at 0x19cb5e88548>"
      ]
     },
     "execution_count": 59,
     "metadata": {},
     "output_type": "execute_result"
    },
    {
     "data": {
      "image/png": "[encoded data removed]",
      "text/plain": [
       "<Figure size 720x576 with 1 Axes>"
      ]
     },
     "metadata": {
      "needs_background": "light"
     },
     "output_type": "display_data"
    }
   ],
   "source": [
    "from sklearn import preprocessing\n",
    "import seaborn as sns                                           #orginal distributions\n",
    "fig, (ax1) = plt.subplots(ncols=1, figsize=(10,8))              #before any stadardization and normalization\n",
    "ax1.set_title('Original Distributions')\n",
    "sns.kdeplot(df['Age'], ax=ax1)\n",
    "sns.kdeplot(df['Income'], ax=ax1)\n",
    "sns.kdeplot(df['Bike Used In Years'], ax=ax1)\n",
    "sns.kdeplot(df['Cars'], ax=ax1)\n",
    "sns.kdeplot(df['Children'], ax=ax1)\n"
   ]
  },
  {
   "cell_type": "code",
   "execution_count": 60,
   "metadata": {},
   "outputs": [
    {
     "data": {
      "text/plain": [
       "<matplotlib.axes._subplots.AxesSubplot at 0x19cb5eedd88>"
      ]
     },
     "execution_count": 60,
     "metadata": {},
     "output_type": "execute_result"
    },
    {
     "data": {
      "image/png": "[encoded data removed]",
      "text/plain": [
       "<Figure size 432x288 with 1 Axes>"
      ]
     },
     "metadata": {
      "needs_background": "light"
     },
     "output_type": "display_data"
    }
   ],
   "source": [
    "df.plot()"
   ]
  },
  {
   "cell_type": "code",
   "execution_count": 61,
   "metadata": {},
   "outputs": [
    {
     "name": "stdout",
     "output_type": "stream",
     "text": [
      "ID\n",
      "Marital Status\n",
      "Gender\n",
      "Income\n",
      "Children\n",
      "Education\n",
      "Occupation\n",
      "Home Owner\n",
      "Cars\n",
      "Commute Distance\n",
      "Region\n",
      "Age\n",
      "Purchased Bike\n",
      "Bike Used In Years\n"
     ]
    }
   ],
   "source": [
    "for col in df.columns: \n",
    "    print(col)                  #display all columns"
   ]
  },
  {
   "cell_type": "code",
   "execution_count": 62,
   "metadata": {},
   "outputs": [
    {
     "name": "stdout",
     "output_type": "stream",
     "text": [
      "<class 'pandas.core.frame.DataFrame'>\n",
      "Int64Index: 971 entries, 0 to 999\n",
      "Data columns (total 14 columns):\n",
      "ID                    971 non-null int64\n",
      "Marital Status        971 non-null object\n",
      "Gender                971 non-null object\n",
      "Income                971 non-null float64\n",
      "Children              971 non-null float64\n",
      "Education             971 non-null object\n",
      "Occupation            971 non-null object\n",
      "Home Owner            971 non-null object\n",
      "Cars                  971 non-null float64\n",
      "Commute Distance      971 non-null object\n",
      "Region                971 non-null object\n",
      "Age                   971 non-null float64\n",
      "Purchased Bike        971 non-null object\n",
      "Bike Used In Years    971 non-null float64\n",
      "dtypes: float64(5), int64(1), object(8)\n",
      "memory usage: 153.8+ KB\n"
     ]
    }
   ],
   "source": [
    "\n",
    "df.info()                #checking the datatype of features"
   ]
  },
  {
   "cell_type": "code",
   "execution_count": 63,
   "metadata": {},
   "outputs": [],
   "source": [
    "df1 = df.drop(['ID','Marital Status','Gender','Education','Occupation',                  #dropping the object features\n",
    "               'Home Owner','Commute Distance','Region','Purchased Bike'],axis = 1)"
   ]
  },
  {
   "cell_type": "code",
   "execution_count": 64,
   "metadata": {},
   "outputs": [
    {
     "data": {
      "text/plain": [
       "<matplotlib.axes._subplots.AxesSubplot at 0x19cb5f78ac8>"
      ]
     },
     "execution_count": 64,
     "metadata": {},
     "output_type": "execute_result"
    },
    {
     "data": {
      "image/png": "[encoded data removed]",
      "text/plain": [
       "<Figure size 720x576 with 1 Axes>"
      ]
     },
     "metadata": {
      "needs_background": "light"
     },
     "output_type": "display_data"
    }
   ],
   "source": [
    "col_names = list(df1.columns)                                              #standardisation\n",
    "s_scaler = preprocessing.StandardScaler()\n",
    "df1_s = s_scaler.fit_transform(df1)\n",
    "\n",
    "df1_s = pd.DataFrame(df1_s, columns=col_names)\n",
    "\n",
    "fig, (ax1) = plt.subplots(ncols=1, figsize=(10, 8))\n",
    "ax1.set_title('After StandardScaler')\n",
    "\n",
    "sns.kdeplot(df1_s['Age'], ax=ax1)\n",
    "sns.kdeplot(df1_s['Income'], ax=ax1)\n",
    "sns.kdeplot(df1_s['Bike Used In Years'], ax=ax1)\n",
    "\n"
   ]
  },
  {
   "cell_type": "code",
   "execution_count": 65,
   "metadata": {},
   "outputs": [
    {
     "name": "stdout",
     "output_type": "stream",
     "text": [
      "<class 'pandas.core.frame.DataFrame'>\n",
      "RangeIndex: 971 entries, 0 to 970\n",
      "Data columns (total 5 columns):\n",
      "Income                971 non-null float64\n",
      "Children              971 non-null float64\n",
      "Cars                  971 non-null float64\n",
      "Age                   971 non-null float64\n",
      "Bike Used In Years    971 non-null float64\n",
      "dtypes: float64(5)\n",
      "memory usage: 38.1 KB\n"
     ]
    }
   ],
   "source": [
    "df1_s.info()                                               #info of numerical data"
   ]
  },
  {
   "cell_type": "code",
   "execution_count": 66,
   "metadata": {},
   "outputs": [
    {
     "data": {
      "text/plain": [
       "[-1.4699990565125147,\n",
       " -0.7201848363928914,\n",
       " -1.4096424565432422,\n",
       " -1.4054534564230088,\n",
       " -0.8538272627739975]"
      ]
     },
     "execution_count": 66,
     "metadata": {},
     "output_type": "execute_result"
    }
   ],
   "source": [
    "mins = [df1_s[col].min() for col in df1_s.columns]                   #mins\n",
    "mins"
   ]
  },
  {
   "cell_type": "code",
   "execution_count": 67,
   "metadata": {},
   "outputs": [
    {
     "data": {
      "text/plain": [
       "[1.551344634783392,\n",
       " 2.452680300347116,\n",
       " 1.5942262163978436,\n",
       " 1.7255082436797873,\n",
       " 1.5014746467531375]"
      ]
     },
     "execution_count": 67,
     "metadata": {},
     "output_type": "execute_result"
    }
   ],
   "source": [
    "maxs = [df1_s[col].max() for col in df1_s.columns]                #max\n",
    "maxs"
   ]
  },
  {
   "cell_type": "code",
   "execution_count": 68,
   "metadata": {},
   "outputs": [
    {
     "data": {
      "text/html": [
       "<div>\n",
       "<style scoped>\n",
       "    .dataframe tbody tr th:only-of-type {\n",
       "        vertical-align: middle;\n",
       "    }\n",
       "\n",
       "    .dataframe tbody tr th {\n",
       "        vertical-align: top;\n",
       "    }\n",
       "\n",
       "    .dataframe thead th {\n",
       "        text-align: right;\n",
       "    }\n",
       "</style>\n",
       "<table border=\"1\" class=\"dataframe\">\n",
       "  <thead>\n",
       "    <tr style=\"text-align: right;\">\n",
       "      <th></th>\n",
       "      <th>Income</th>\n",
       "      <th>Children</th>\n",
       "      <th>Cars</th>\n",
       "      <th>Age</th>\n",
       "      <th>Bike Used In Years</th>\n",
       "    </tr>\n",
       "  </thead>\n",
       "  <tbody>\n",
       "    <tr>\n",
       "      <td>count</td>\n",
       "      <td>9.710000e+02</td>\n",
       "      <td>9.710000e+02</td>\n",
       "      <td>9.710000e+02</td>\n",
       "      <td>9.710000e+02</td>\n",
       "      <td>9.710000e+02</td>\n",
       "    </tr>\n",
       "    <tr>\n",
       "      <td>mean</td>\n",
       "      <td>1.440088e-16</td>\n",
       "      <td>3.029960e-16</td>\n",
       "      <td>1.338899e-16</td>\n",
       "      <td>-1.861424e-16</td>\n",
       "      <td>-1.982623e-16</td>\n",
       "    </tr>\n",
       "    <tr>\n",
       "      <td>std</td>\n",
       "      <td>1.000515e+00</td>\n",
       "      <td>1.000515e+00</td>\n",
       "      <td>1.000515e+00</td>\n",
       "      <td>1.000515e+00</td>\n",
       "      <td>1.000515e+00</td>\n",
       "    </tr>\n",
       "    <tr>\n",
       "      <td>min</td>\n",
       "      <td>-1.469999e+00</td>\n",
       "      <td>-7.201848e-01</td>\n",
       "      <td>-1.409642e+00</td>\n",
       "      <td>-1.405453e+00</td>\n",
       "      <td>-8.538273e-01</td>\n",
       "    </tr>\n",
       "    <tr>\n",
       "      <td>25%</td>\n",
       "      <td>-1.038379e+00</td>\n",
       "      <td>-7.201848e-01</td>\n",
       "      <td>-4.083529e-01</td>\n",
       "      <td>-8.499603e-01</td>\n",
       "      <td>-8.538273e-01</td>\n",
       "    </tr>\n",
       "    <tr>\n",
       "      <td>50%</td>\n",
       "      <td>2.564831e-01</td>\n",
       "      <td>-7.201848e-01</td>\n",
       "      <td>-4.083529e-01</td>\n",
       "      <td>-9.246952e-02</td>\n",
       "      <td>-8.538273e-01</td>\n",
       "    </tr>\n",
       "    <tr>\n",
       "      <td>75%</td>\n",
       "      <td>6.881036e-01</td>\n",
       "      <td>5.489612e-01</td>\n",
       "      <td>5.929367e-01</td>\n",
       "      <td>7.155206e-01</td>\n",
       "      <td>1.030414e+00</td>\n",
       "    </tr>\n",
       "    <tr>\n",
       "      <td>max</td>\n",
       "      <td>1.551345e+00</td>\n",
       "      <td>2.452680e+00</td>\n",
       "      <td>1.594226e+00</td>\n",
       "      <td>1.725508e+00</td>\n",
       "      <td>1.501475e+00</td>\n",
       "    </tr>\n",
       "  </tbody>\n",
       "</table>\n",
       "</div>"
      ],
      "text/plain": [
       "             Income      Children          Cars           Age  \\\n",
       "count  9.710000e+02  9.710000e+02  9.710000e+02  9.710000e+02   \n",
       "mean   1.440088e-16  3.029960e-16  1.338899e-16 -1.861424e-16   \n",
       "std    1.000515e+00  1.000515e+00  1.000515e+00  1.000515e+00   \n",
       "min   -1.469999e+00 -7.201848e-01 -1.409642e+00 -1.405453e+00   \n",
       "25%   -1.038379e+00 -7.201848e-01 -4.083529e-01 -8.499603e-01   \n",
       "50%    2.564831e-01 -7.201848e-01 -4.083529e-01 -9.246952e-02   \n",
       "75%    6.881036e-01  5.489612e-01  5.929367e-01  7.155206e-01   \n",
       "max    1.551345e+00  2.452680e+00  1.594226e+00  1.725508e+00   \n",
       "\n",
       "       Bike Used In Years  \n",
       "count        9.710000e+02  \n",
       "mean        -1.982623e-16  \n",
       "std          1.000515e+00  \n",
       "min         -8.538273e-01  \n",
       "25%         -8.538273e-01  \n",
       "50%         -8.538273e-01  \n",
       "75%          1.030414e+00  \n",
       "max          1.501475e+00  "
      ]
     },
     "execution_count": 68,
     "metadata": {},
     "output_type": "execute_result"
    }
   ],
   "source": [
    "df1_s.describe()           #describing thee data"
   ]
  },
  {
   "cell_type": "code",
   "execution_count": 69,
   "metadata": {},
   "outputs": [
    {
     "data": {
      "text/plain": [
       "<matplotlib.axes._subplots.AxesSubplot at 0x19cb600b508>"
      ]
     },
     "execution_count": 69,
     "metadata": {},
     "output_type": "execute_result"
    },
    {
     "data": {
      "image/png": "[encoded data removed]",
      "text/plain": [
       "<Figure size 720x576 with 1 Axes>"
      ]
     },
     "metadata": {
      "needs_background": "light"
     },
     "output_type": "display_data"
    }
   ],
   "source": [
    "n_scaler = preprocessing.Normalizer()\n",
    "df1_n = n_scaler.fit_transform(df1)                               #normalization\n",
    "\n",
    "df1_n = pd.DataFrame(df1_n, columns=col_names)\n",
    "\n",
    "fig, (ax1) = plt.subplots(ncols=1, figsize=(10, 8))\n",
    "ax1.set_title('After Normalizer')\n",
    "\n",
    "sns.kdeplot(df1_s['Age'], ax=ax1)\n",
    "sns.kdeplot(df1_s['Income'], ax=ax1)\n",
    "sns.kdeplot(df1_s['Bike Used In Years'], ax=ax1)"
   ]
  },
  {
   "cell_type": "code",
   "execution_count": 70,
   "metadata": {},
   "outputs": [
    {
     "data": {
      "text/html": [
       "<div>\n",
       "<style scoped>\n",
       "    .dataframe tbody tr th:only-of-type {\n",
       "        vertical-align: middle;\n",
       "    }\n",
       "\n",
       "    .dataframe tbody tr th {\n",
       "        vertical-align: top;\n",
       "    }\n",
       "\n",
       "    .dataframe thead th {\n",
       "        text-align: right;\n",
       "    }\n",
       "</style>\n",
       "<table border=\"1\" class=\"dataframe\">\n",
       "  <thead>\n",
       "    <tr style=\"text-align: right;\">\n",
       "      <th></th>\n",
       "      <th>Income</th>\n",
       "      <th>Children</th>\n",
       "      <th>Cars</th>\n",
       "      <th>Age</th>\n",
       "      <th>Bike Used In Years</th>\n",
       "    </tr>\n",
       "  </thead>\n",
       "  <tbody>\n",
       "    <tr>\n",
       "      <td>0</td>\n",
       "      <td>-0.606758</td>\n",
       "      <td>-0.085612</td>\n",
       "      <td>-1.409642</td>\n",
       "      <td>-0.193468</td>\n",
       "      <td>-0.853827</td>\n",
       "    </tr>\n",
       "    <tr>\n",
       "      <td>1</td>\n",
       "      <td>-1.038379</td>\n",
       "      <td>1.183534</td>\n",
       "      <td>-0.408353</td>\n",
       "      <td>-0.092470</td>\n",
       "      <td>-0.853827</td>\n",
       "    </tr>\n",
       "    <tr>\n",
       "      <td>2</td>\n",
       "      <td>1.119724</td>\n",
       "      <td>2.452680</td>\n",
       "      <td>0.592937</td>\n",
       "      <td>1.624509</td>\n",
       "      <td>-0.853827</td>\n",
       "    </tr>\n",
       "    <tr>\n",
       "      <td>3</td>\n",
       "      <td>0.688104</td>\n",
       "      <td>-0.720185</td>\n",
       "      <td>-0.408353</td>\n",
       "      <td>-0.294467</td>\n",
       "      <td>0.088294</td>\n",
       "    </tr>\n",
       "    <tr>\n",
       "      <td>4</td>\n",
       "      <td>-1.038379</td>\n",
       "      <td>-0.720185</td>\n",
       "      <td>-1.409642</td>\n",
       "      <td>-0.799461</td>\n",
       "      <td>0.088294</td>\n",
       "    </tr>\n",
       "    <tr>\n",
       "      <td>...</td>\n",
       "      <td>...</td>\n",
       "      <td>...</td>\n",
       "      <td>...</td>\n",
       "      <td>...</td>\n",
       "      <td>...</td>\n",
       "    </tr>\n",
       "    <tr>\n",
       "      <td>966</td>\n",
       "      <td>0.256483</td>\n",
       "      <td>0.548961</td>\n",
       "      <td>0.592937</td>\n",
       "      <td>1.018517</td>\n",
       "      <td>1.501475</td>\n",
       "    </tr>\n",
       "    <tr>\n",
       "      <td>967</td>\n",
       "      <td>0.688104</td>\n",
       "      <td>-0.720185</td>\n",
       "      <td>-1.409642</td>\n",
       "      <td>0.008529</td>\n",
       "      <td>1.501475</td>\n",
       "    </tr>\n",
       "    <tr>\n",
       "      <td>968</td>\n",
       "      <td>0.256483</td>\n",
       "      <td>0.548961</td>\n",
       "      <td>-1.409642</td>\n",
       "      <td>-0.597463</td>\n",
       "      <td>1.501475</td>\n",
       "    </tr>\n",
       "    <tr>\n",
       "      <td>969</td>\n",
       "      <td>1.551345</td>\n",
       "      <td>-0.720185</td>\n",
       "      <td>1.594226</td>\n",
       "      <td>-0.597463</td>\n",
       "      <td>-0.853827</td>\n",
       "    </tr>\n",
       "    <tr>\n",
       "      <td>970</td>\n",
       "      <td>0.256483</td>\n",
       "      <td>-0.720185</td>\n",
       "      <td>0.592937</td>\n",
       "      <td>0.917518</td>\n",
       "      <td>1.501475</td>\n",
       "    </tr>\n",
       "  </tbody>\n",
       "</table>\n",
       "<p>971 rows × 5 columns</p>\n",
       "</div>"
      ],
      "text/plain": [
       "       Income  Children      Cars       Age  Bike Used In Years\n",
       "0   -0.606758 -0.085612 -1.409642 -0.193468           -0.853827\n",
       "1   -1.038379  1.183534 -0.408353 -0.092470           -0.853827\n",
       "2    1.119724  2.452680  0.592937  1.624509           -0.853827\n",
       "3    0.688104 -0.720185 -0.408353 -0.294467            0.088294\n",
       "4   -1.038379 -0.720185 -1.409642 -0.799461            0.088294\n",
       "..        ...       ...       ...       ...                 ...\n",
       "966  0.256483  0.548961  0.592937  1.018517            1.501475\n",
       "967  0.688104 -0.720185 -1.409642  0.008529            1.501475\n",
       "968  0.256483  0.548961 -1.409642 -0.597463            1.501475\n",
       "969  1.551345 -0.720185  1.594226 -0.597463           -0.853827\n",
       "970  0.256483 -0.720185  0.592937  0.917518            1.501475\n",
       "\n",
       "[971 rows x 5 columns]"
      ]
     },
     "execution_count": 70,
     "metadata": {},
     "output_type": "execute_result"
    }
   ],
   "source": [
    "df1_s                          #standardized result             mean=0 , variance/standard deviation=1"
   ]
  },
  {
   "cell_type": "code",
   "execution_count": 71,
   "metadata": {},
   "outputs": [
    {
     "data": {
      "text/html": [
       "<div>\n",
       "<style scoped>\n",
       "    .dataframe tbody tr th:only-of-type {\n",
       "        vertical-align: middle;\n",
       "    }\n",
       "\n",
       "    .dataframe tbody tr th {\n",
       "        vertical-align: top;\n",
       "    }\n",
       "\n",
       "    .dataframe thead th {\n",
       "        text-align: right;\n",
       "    }\n",
       "</style>\n",
       "<table border=\"1\" class=\"dataframe\">\n",
       "  <thead>\n",
       "    <tr style=\"text-align: right;\">\n",
       "      <th></th>\n",
       "      <th>Income</th>\n",
       "      <th>Children</th>\n",
       "      <th>Cars</th>\n",
       "      <th>Age</th>\n",
       "      <th>Bike Used In Years</th>\n",
       "    </tr>\n",
       "  </thead>\n",
       "  <tbody>\n",
       "    <tr>\n",
       "      <td>0</td>\n",
       "      <td>0.999999</td>\n",
       "      <td>0.000025</td>\n",
       "      <td>0.000000</td>\n",
       "      <td>0.001050</td>\n",
       "      <td>0.000000</td>\n",
       "    </tr>\n",
       "    <tr>\n",
       "      <td>1</td>\n",
       "      <td>0.999999</td>\n",
       "      <td>0.000100</td>\n",
       "      <td>0.000033</td>\n",
       "      <td>0.001433</td>\n",
       "      <td>0.000000</td>\n",
       "    </tr>\n",
       "    <tr>\n",
       "      <td>2</td>\n",
       "      <td>1.000000</td>\n",
       "      <td>0.000062</td>\n",
       "      <td>0.000025</td>\n",
       "      <td>0.000750</td>\n",
       "      <td>0.000000</td>\n",
       "    </tr>\n",
       "    <tr>\n",
       "      <td>3</td>\n",
       "      <td>1.000000</td>\n",
       "      <td>0.000000</td>\n",
       "      <td>0.000014</td>\n",
       "      <td>0.000586</td>\n",
       "      <td>0.000029</td>\n",
       "    </tr>\n",
       "    <tr>\n",
       "      <td>4</td>\n",
       "      <td>0.999999</td>\n",
       "      <td>0.000000</td>\n",
       "      <td>0.000000</td>\n",
       "      <td>0.001200</td>\n",
       "      <td>0.000067</td>\n",
       "    </tr>\n",
       "    <tr>\n",
       "      <td>...</td>\n",
       "      <td>...</td>\n",
       "      <td>...</td>\n",
       "      <td>...</td>\n",
       "      <td>...</td>\n",
       "      <td>...</td>\n",
       "    </tr>\n",
       "    <tr>\n",
       "      <td>966</td>\n",
       "      <td>1.000000</td>\n",
       "      <td>0.000033</td>\n",
       "      <td>0.000033</td>\n",
       "      <td>0.000900</td>\n",
       "      <td>0.000083</td>\n",
       "    </tr>\n",
       "    <tr>\n",
       "      <td>967</td>\n",
       "      <td>1.000000</td>\n",
       "      <td>0.000000</td>\n",
       "      <td>0.000000</td>\n",
       "      <td>0.000629</td>\n",
       "      <td>0.000071</td>\n",
       "    </tr>\n",
       "    <tr>\n",
       "      <td>968</td>\n",
       "      <td>1.000000</td>\n",
       "      <td>0.000033</td>\n",
       "      <td>0.000000</td>\n",
       "      <td>0.000633</td>\n",
       "      <td>0.000083</td>\n",
       "    </tr>\n",
       "    <tr>\n",
       "      <td>969</td>\n",
       "      <td>1.000000</td>\n",
       "      <td>0.000000</td>\n",
       "      <td>0.000033</td>\n",
       "      <td>0.000422</td>\n",
       "      <td>0.000000</td>\n",
       "    </tr>\n",
       "    <tr>\n",
       "      <td>970</td>\n",
       "      <td>1.000000</td>\n",
       "      <td>0.000000</td>\n",
       "      <td>0.000033</td>\n",
       "      <td>0.000883</td>\n",
       "      <td>0.000083</td>\n",
       "    </tr>\n",
       "  </tbody>\n",
       "</table>\n",
       "<p>971 rows × 5 columns</p>\n",
       "</div>"
      ],
      "text/plain": [
       "       Income  Children      Cars       Age  Bike Used In Years\n",
       "0    0.999999  0.000025  0.000000  0.001050            0.000000\n",
       "1    0.999999  0.000100  0.000033  0.001433            0.000000\n",
       "2    1.000000  0.000062  0.000025  0.000750            0.000000\n",
       "3    1.000000  0.000000  0.000014  0.000586            0.000029\n",
       "4    0.999999  0.000000  0.000000  0.001200            0.000067\n",
       "..        ...       ...       ...       ...                 ...\n",
       "966  1.000000  0.000033  0.000033  0.000900            0.000083\n",
       "967  1.000000  0.000000  0.000000  0.000629            0.000071\n",
       "968  1.000000  0.000033  0.000000  0.000633            0.000083\n",
       "969  1.000000  0.000000  0.000033  0.000422            0.000000\n",
       "970  1.000000  0.000000  0.000033  0.000883            0.000083\n",
       "\n",
       "[971 rows x 5 columns]"
      ]
     },
     "execution_count": 71,
     "metadata": {},
     "output_type": "execute_result"
    }
   ],
   "source": [
    "df1_n                                       #normalized result  [0,1] range"
   ]
  },
  {
   "cell_type": "markdown",
   "metadata": {},
   "source": [
    "# CORRELATION"
   ]
  },
  {
   "cell_type": "code",
   "execution_count": 72,
   "metadata": {},
   "outputs": [
    {
     "name": "stdout",
     "output_type": "stream",
     "text": [
      "                      Income  Children      Cars       Age  Bike Used In Years\n",
      "Income              1.000000  0.228719  0.333064  0.181927            0.018186\n",
      "Children            0.228719  1.000000  0.194723  0.422372           -0.175304\n",
      "Cars                0.333064  0.194723  1.000000  0.209803           -0.204879\n",
      "Age                 0.181927  0.422372  0.209803  1.000000           -0.103207\n",
      "Bike Used In Years  0.018186 -0.175304 -0.204879 -0.103207            1.000000\n"
     ]
    }
   ],
   "source": [
    "correlation_pearson = df1.corr(method=\"pearson\");                     #from this technique we get to know which features ar\n",
    "                                                                      #dependent on each other\n",
    "print(correlation_pearson)"
   ]
  },
  {
   "cell_type": "code",
   "execution_count": 73,
   "metadata": {},
   "outputs": [
    {
     "name": "stdout",
     "output_type": "stream",
     "text": [
      "                      Income  Children      Cars       Age  Bike Used In Years\n",
      "Income              1.000000  0.181472  0.318490  0.198968            0.042655\n",
      "Children            0.181472  1.000000  0.122700  0.451124           -0.156152\n",
      "Cars                0.318490  0.122700  1.000000  0.205614           -0.205569\n",
      "Age                 0.198968  0.451124  0.205614  1.000000           -0.089224\n",
      "Bike Used In Years  0.042655 -0.156152 -0.205569 -0.089224            1.000000\n"
     ]
    }
   ],
   "source": [
    "correlation_spearman = df1.corr(method='spearman')\n",
    "print(correlation_spearman)"
   ]
  },
  {
   "cell_type": "code",
   "execution_count": 74,
   "metadata": {},
   "outputs": [
    {
     "name": "stdout",
     "output_type": "stream",
     "text": [
      "                      Income  Children      Cars       Age  Bike Used In Years\n",
      "Income              1.000000  0.148349  0.256385  0.147995            0.035054\n",
      "Children            0.148349  1.000000  0.105261  0.356888           -0.133170\n",
      "Cars                0.256385  0.105261  1.000000  0.154903           -0.174642\n",
      "Age                 0.147995  0.356888  0.154903  1.000000           -0.069132\n",
      "Bike Used In Years  0.035054 -0.133170 -0.174642 -0.069132            1.000000\n"
     ]
    }
   ],
   "source": [
    "correlation_kendall = df1.corr(method='kendall')\n",
    "print(correlation_kendall )"
   ]
  },
  {
   "cell_type": "code",
   "execution_count": 75,
   "metadata": {},
   "outputs": [
    {
     "data": {
      "text/plain": [
       "<matplotlib.axes._subplots.AxesSubplot at 0x19cb6077e08>"
      ]
     },
     "execution_count": 75,
     "metadata": {},
     "output_type": "execute_result"
    },
    {
     "data": {
      "image/png": "[encoded data removed]",
      "text/plain": [
       "<Figure size 432x288 with 2 Axes>"
      ]
     },
     "metadata": {
      "needs_background": "light"
     },
     "output_type": "display_data"
    }
   ],
   "source": [
    "sns.heatmap(correlation_pearson,\n",
    "              xticklabels=correlation_pearson.columns,                     #PEARSON METHOD\n",
    "              yticklabels=correlation_pearson.columns,\n",
    "              annot=True,\n",
    "              linewidth=0.5)"
   ]
  },
  {
   "cell_type": "code",
   "execution_count": 76,
   "metadata": {},
   "outputs": [
    {
     "data": {
      "text/plain": [
       "<matplotlib.axes._subplots.AxesSubplot at 0x19cb62c8d08>"
      ]
     },
     "execution_count": 76,
     "metadata": {},
     "output_type": "execute_result"
    },
    {
     "data": {
      "image/png": "[encoded data removed]",
      "text/plain": [
       "<Figure size 432x288 with 2 Axes>"
      ]
     },
     "metadata": {
      "needs_background": "light"
     },
     "output_type": "display_data"
    }
   ],
   "source": [
    "sns.heatmap(correlation_spearman,\n",
    "              xticklabels=correlation_spearman.columns,\n",
    "              yticklabels=correlation_spearman.columns,                                    #SPEARMAN METHOD\n",
    "              cmap='YlGnBu',\n",
    "              annot=True,\n",
    "              linewidth=0.5)"
   ]
  },
  {
   "cell_type": "code",
   "execution_count": 77,
   "metadata": {},
   "outputs": [
    {
     "data": {
      "text/plain": [
       "<matplotlib.axes._subplots.AxesSubplot at 0x19cb5d4a248>"
      ]
     },
     "execution_count": 77,
     "metadata": {},
     "output_type": "execute_result"
    },
    {
     "data": {
      "image/png": "[encoded data removed]",
      "text/plain": [
       "<Figure size 432x288 with 2 Axes>"
      ]
     },
     "metadata": {
      "needs_background": "light"
     },
     "output_type": "display_data"
    }
   ],
   "source": [
    "sns.heatmap(correlation_kendall,                                                           #KENDALL METHOD\n",
    "              xticklabels=correlation_kendall.columns,                            \n",
    "              yticklabels=correlation_kendall.columns,\n",
    "              cmap='RdPu_r',\n",
    "              annot=True,\n",
    "              linewidth=0.5)"
   ]
  },
  {
   "cell_type": "markdown",
   "metadata": {},
   "source": [
    "# HYPOTHESIS TESTING"
   ]
  },
  {
   "cell_type": "code",
   "execution_count": 78,
   "metadata": {},
   "outputs": [
    {
     "name": "stdout",
     "output_type": "stream",
     "text": [
      "12.210173273565847\n"
     ]
    }
   ],
   "source": [
    "#Hypothesis: Average age is 40 years\n",
    "#H0: AvgAge = 40 and H1: AvgAge !=40\n",
    "#mean = 43.8146240 and standard deviation = 9.735080 \n",
    "#n = 971\n",
    "#level of significance is 5% i.e, alpha=0.005 so critical value z=1.96 or -1.96\n",
    "mean = 43.8146240\n",
    "mu = 40\n",
    "sd = 9.735080 \n",
    "n=971\n",
    "x= sd / np.sqrt(n)   #test statistics \n",
    "z = (mean - mu) / x\n",
    "print(z)"
   ]
  },
  {
   "cell_type": "markdown",
   "metadata": {},
   "source": [
    "#since value of z is greater than critical value we conclude that null hypothesis is rejected "
   ]
  },
  {
   "cell_type": "code",
   "execution_count": 79,
   "metadata": {},
   "outputs": [
    {
     "name": "stdout",
     "output_type": "stream",
     "text": [
      "0.07752767472379793\n"
     ]
    }
   ],
   "source": [
    "#Hypothesis: Average income is 54000 rupees\n",
    "#H0: Avgincome = 54000/- and H1: AvgTemp != 54000/-\n",
    "#mean =54057.672503 and standard deviation =23180.439015\n",
    "#n = 971\n",
    "#level of significance is 1% i.e, alpha=0.001 so critical value z=1.645 or -1.645\n",
    "mean = 54057.672503\n",
    "mu =54000\n",
    "sd = 23180.439015\n",
    "n=971\n",
    "x= sd / np.sqrt(n)\n",
    "z = (mean - mu) / x\n",
    "print(z)"
   ]
  },
  {
   "cell_type": "markdown",
   "metadata": {},
   "source": [
    "#since vaue of z is lesser than critical value we conclude that null hypothesis is accepted"
   ]
  },
  {
   "cell_type": "code",
   "execution_count": 80,
   "metadata": {},
   "outputs": [
    {
     "data": {
      "text/html": [
       "<div>\n",
       "<style scoped>\n",
       "    .dataframe tbody tr th:only-of-type {\n",
       "        vertical-align: middle;\n",
       "    }\n",
       "\n",
       "    .dataframe tbody tr th {\n",
       "        vertical-align: top;\n",
       "    }\n",
       "\n",
       "    .dataframe thead th {\n",
       "        text-align: right;\n",
       "    }\n",
       "</style>\n",
       "<table border=\"1\" class=\"dataframe\">\n",
       "  <thead>\n",
       "    <tr style=\"text-align: right;\">\n",
       "      <th></th>\n",
       "      <th>ID</th>\n",
       "      <th>Marital Status</th>\n",
       "      <th>Gender</th>\n",
       "      <th>Income</th>\n",
       "      <th>Children</th>\n",
       "      <th>Education</th>\n",
       "      <th>Occupation</th>\n",
       "      <th>Home Owner</th>\n",
       "      <th>Cars</th>\n",
       "      <th>Commute Distance</th>\n",
       "      <th>Region</th>\n",
       "      <th>Age</th>\n",
       "      <th>Purchased Bike</th>\n",
       "      <th>Bike Used In Years</th>\n",
       "    </tr>\n",
       "  </thead>\n",
       "  <tbody>\n",
       "    <tr>\n",
       "      <td>0</td>\n",
       "      <td>12496</td>\n",
       "      <td>Married</td>\n",
       "      <td>Female</td>\n",
       "      <td>40000.0</td>\n",
       "      <td>1.0</td>\n",
       "      <td>Bachelors</td>\n",
       "      <td>Skilled Manual</td>\n",
       "      <td>Yes</td>\n",
       "      <td>0.0</td>\n",
       "      <td>0-1 Miles</td>\n",
       "      <td>Europe</td>\n",
       "      <td>42.0</td>\n",
       "      <td>No</td>\n",
       "      <td>0.0</td>\n",
       "    </tr>\n",
       "    <tr>\n",
       "      <td>1</td>\n",
       "      <td>24107</td>\n",
       "      <td>Married</td>\n",
       "      <td>Male</td>\n",
       "      <td>30000.0</td>\n",
       "      <td>3.0</td>\n",
       "      <td>Partial College</td>\n",
       "      <td>Clerical</td>\n",
       "      <td>Yes</td>\n",
       "      <td>1.0</td>\n",
       "      <td>0-1 Miles</td>\n",
       "      <td>Europe</td>\n",
       "      <td>43.0</td>\n",
       "      <td>No</td>\n",
       "      <td>0.0</td>\n",
       "    </tr>\n",
       "    <tr>\n",
       "      <td>2</td>\n",
       "      <td>14177</td>\n",
       "      <td>Married</td>\n",
       "      <td>Male</td>\n",
       "      <td>80000.0</td>\n",
       "      <td>5.0</td>\n",
       "      <td>Partial College</td>\n",
       "      <td>Professional</td>\n",
       "      <td>No</td>\n",
       "      <td>2.0</td>\n",
       "      <td>2-5 Miles</td>\n",
       "      <td>Europe</td>\n",
       "      <td>60.0</td>\n",
       "      <td>No</td>\n",
       "      <td>0.0</td>\n",
       "    </tr>\n",
       "    <tr>\n",
       "      <td>3</td>\n",
       "      <td>24381</td>\n",
       "      <td>Single</td>\n",
       "      <td>unknown</td>\n",
       "      <td>70000.0</td>\n",
       "      <td>0.0</td>\n",
       "      <td>Bachelors</td>\n",
       "      <td>Professional</td>\n",
       "      <td>Yes</td>\n",
       "      <td>1.0</td>\n",
       "      <td>5-10 Miles</td>\n",
       "      <td>Pacific</td>\n",
       "      <td>41.0</td>\n",
       "      <td>Yes</td>\n",
       "      <td>2.0</td>\n",
       "    </tr>\n",
       "    <tr>\n",
       "      <td>4</td>\n",
       "      <td>25597</td>\n",
       "      <td>Single</td>\n",
       "      <td>Male</td>\n",
       "      <td>30000.0</td>\n",
       "      <td>0.0</td>\n",
       "      <td>Bachelors</td>\n",
       "      <td>Clerical</td>\n",
       "      <td>No</td>\n",
       "      <td>0.0</td>\n",
       "      <td>10+ Miles</td>\n",
       "      <td>Europe</td>\n",
       "      <td>36.0</td>\n",
       "      <td>Yes</td>\n",
       "      <td>2.0</td>\n",
       "    </tr>\n",
       "    <tr>\n",
       "      <td>...</td>\n",
       "      <td>...</td>\n",
       "      <td>...</td>\n",
       "      <td>...</td>\n",
       "      <td>...</td>\n",
       "      <td>...</td>\n",
       "      <td>...</td>\n",
       "      <td>...</td>\n",
       "      <td>...</td>\n",
       "      <td>...</td>\n",
       "      <td>...</td>\n",
       "      <td>...</td>\n",
       "      <td>...</td>\n",
       "      <td>...</td>\n",
       "      <td>...</td>\n",
       "    </tr>\n",
       "    <tr>\n",
       "      <td>995</td>\n",
       "      <td>23731</td>\n",
       "      <td>Married</td>\n",
       "      <td>Male</td>\n",
       "      <td>60000.0</td>\n",
       "      <td>2.0</td>\n",
       "      <td>other</td>\n",
       "      <td>Professional</td>\n",
       "      <td>Yes</td>\n",
       "      <td>2.0</td>\n",
       "      <td>2-5 Miles</td>\n",
       "      <td>North America</td>\n",
       "      <td>54.0</td>\n",
       "      <td>Yes</td>\n",
       "      <td>5.0</td>\n",
       "    </tr>\n",
       "    <tr>\n",
       "      <td>996</td>\n",
       "      <td>28672</td>\n",
       "      <td>Single</td>\n",
       "      <td>Male</td>\n",
       "      <td>70000.0</td>\n",
       "      <td>0.0</td>\n",
       "      <td>Graduate Degree</td>\n",
       "      <td>Professional</td>\n",
       "      <td>Yes</td>\n",
       "      <td>0.0</td>\n",
       "      <td>2-5 Miles</td>\n",
       "      <td>North America</td>\n",
       "      <td>44.0</td>\n",
       "      <td>Yes</td>\n",
       "      <td>5.0</td>\n",
       "    </tr>\n",
       "    <tr>\n",
       "      <td>997</td>\n",
       "      <td>11809</td>\n",
       "      <td>Married</td>\n",
       "      <td>unknown</td>\n",
       "      <td>60000.0</td>\n",
       "      <td>2.0</td>\n",
       "      <td>Bachelors</td>\n",
       "      <td>Skilled Manual</td>\n",
       "      <td>Yes</td>\n",
       "      <td>0.0</td>\n",
       "      <td>0-1 Miles</td>\n",
       "      <td>North America</td>\n",
       "      <td>38.0</td>\n",
       "      <td>Yes</td>\n",
       "      <td>5.0</td>\n",
       "    </tr>\n",
       "    <tr>\n",
       "      <td>998</td>\n",
       "      <td>19664</td>\n",
       "      <td>Single</td>\n",
       "      <td>Male</td>\n",
       "      <td>90000.0</td>\n",
       "      <td>0.0</td>\n",
       "      <td>Bachelors</td>\n",
       "      <td>Management</td>\n",
       "      <td>Yes</td>\n",
       "      <td>3.0</td>\n",
       "      <td>10+ Miles</td>\n",
       "      <td>North America</td>\n",
       "      <td>38.0</td>\n",
       "      <td>No</td>\n",
       "      <td>0.0</td>\n",
       "    </tr>\n",
       "    <tr>\n",
       "      <td>999</td>\n",
       "      <td>12121</td>\n",
       "      <td>Single</td>\n",
       "      <td>Male</td>\n",
       "      <td>60000.0</td>\n",
       "      <td>0.0</td>\n",
       "      <td>High School</td>\n",
       "      <td>Professional</td>\n",
       "      <td>Yes</td>\n",
       "      <td>2.0</td>\n",
       "      <td>10+ Miles</td>\n",
       "      <td>North America</td>\n",
       "      <td>53.0</td>\n",
       "      <td>Yes</td>\n",
       "      <td>5.0</td>\n",
       "    </tr>\n",
       "  </tbody>\n",
       "</table>\n",
       "<p>971 rows × 14 columns</p>\n",
       "</div>"
      ],
      "text/plain": [
       "        ID Marital Status   Gender   Income  Children        Education  \\\n",
       "0    12496        Married   Female  40000.0       1.0        Bachelors   \n",
       "1    24107        Married     Male  30000.0       3.0  Partial College   \n",
       "2    14177        Married     Male  80000.0       5.0  Partial College   \n",
       "3    24381         Single  unknown  70000.0       0.0        Bachelors   \n",
       "4    25597         Single     Male  30000.0       0.0        Bachelors   \n",
       "..     ...            ...      ...      ...       ...              ...   \n",
       "995  23731        Married     Male  60000.0       2.0            other   \n",
       "996  28672         Single     Male  70000.0       0.0  Graduate Degree   \n",
       "997  11809        Married  unknown  60000.0       2.0        Bachelors   \n",
       "998  19664         Single     Male  90000.0       0.0        Bachelors   \n",
       "999  12121         Single     Male  60000.0       0.0      High School   \n",
       "\n",
       "         Occupation Home Owner  Cars Commute Distance         Region   Age  \\\n",
       "0    Skilled Manual        Yes   0.0        0-1 Miles         Europe  42.0   \n",
       "1          Clerical        Yes   1.0        0-1 Miles         Europe  43.0   \n",
       "2      Professional         No   2.0        2-5 Miles         Europe  60.0   \n",
       "3      Professional        Yes   1.0       5-10 Miles        Pacific  41.0   \n",
       "4          Clerical         No   0.0        10+ Miles         Europe  36.0   \n",
       "..              ...        ...   ...              ...            ...   ...   \n",
       "995    Professional        Yes   2.0        2-5 Miles  North America  54.0   \n",
       "996    Professional        Yes   0.0        2-5 Miles  North America  44.0   \n",
       "997  Skilled Manual        Yes   0.0        0-1 Miles  North America  38.0   \n",
       "998      Management        Yes   3.0        10+ Miles  North America  38.0   \n",
       "999    Professional        Yes   2.0        10+ Miles  North America  53.0   \n",
       "\n",
       "    Purchased Bike  Bike Used In Years  \n",
       "0               No                 0.0  \n",
       "1               No                 0.0  \n",
       "2               No                 0.0  \n",
       "3              Yes                 2.0  \n",
       "4              Yes                 2.0  \n",
       "..             ...                 ...  \n",
       "995            Yes                 5.0  \n",
       "996            Yes                 5.0  \n",
       "997            Yes                 5.0  \n",
       "998             No                 0.0  \n",
       "999            Yes                 5.0  \n",
       "\n",
       "[971 rows x 14 columns]"
      ]
     },
     "execution_count": 80,
     "metadata": {},
     "output_type": "execute_result"
    }
   ],
   "source": [
    "df   #Data set after all the processes"
   ]
  },
  {
   "cell_type": "markdown",
   "metadata": {},
   "source": [
    "#                                                 THANK YOU"
   ]
  }
 ],
 "metadata": {
  "kernelspec": {
   "display_name": "Python 3",
   "language": "python",
   "name": "python3"
  },
  "language_info": {
   "codemirror_mode": {
    "name": "ipython",
    "version": 3
   },
   "file_extension": ".py",
   "mimetype": "text/x-python",
   "name": "python",
   "nbconvert_exporter": "python",
   "pygments_lexer": "ipython3",
   "version": "3.7.4"
  }
 },
 "nbformat": 4,
 "nbformat_minor": 4
}
